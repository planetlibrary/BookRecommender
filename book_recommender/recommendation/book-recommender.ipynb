{
 "cells": [
  {
   "cell_type": "code",
   "execution_count": 214,
   "id": "1e4fd8d1",
   "metadata": {},
   "outputs": [],
   "source": [
    "import pandas as pd\n",
    "import numpy as np"
   ]
  },
  {
   "cell_type": "code",
   "execution_count": 215,
   "id": "e5563047",
   "metadata": {},
   "outputs": [],
   "source": [
    "books = pd.read_csv('book_data.csv')"
   ]
  },
  {
   "cell_type": "code",
   "execution_count": 216,
   "id": "4e9070ed",
   "metadata": {},
   "outputs": [
    {
     "data": {
      "text/html": [
       "<div>\n",
       "<style scoped>\n",
       "    .dataframe tbody tr th:only-of-type {\n",
       "        vertical-align: middle;\n",
       "    }\n",
       "\n",
       "    .dataframe tbody tr th {\n",
       "        vertical-align: top;\n",
       "    }\n",
       "\n",
       "    .dataframe thead th {\n",
       "        text-align: right;\n",
       "    }\n",
       "</style>\n",
       "<table border=\"1\" class=\"dataframe\">\n",
       "  <thead>\n",
       "    <tr style=\"text-align: right;\">\n",
       "      <th></th>\n",
       "      <th>book_authors</th>\n",
       "      <th>book_desc</th>\n",
       "      <th>book_edition</th>\n",
       "      <th>book_format</th>\n",
       "      <th>book_isbn</th>\n",
       "      <th>book_pages</th>\n",
       "      <th>book_rating</th>\n",
       "      <th>book_rating_count</th>\n",
       "      <th>book_review_count</th>\n",
       "      <th>book_title</th>\n",
       "      <th>genres</th>\n",
       "      <th>image_url</th>\n",
       "    </tr>\n",
       "  </thead>\n",
       "  <tbody>\n",
       "    <tr>\n",
       "      <th>0</th>\n",
       "      <td>Suzanne Collins</td>\n",
       "      <td>Winning will make you famous. Losing means cer...</td>\n",
       "      <td>NaN</td>\n",
       "      <td>Hardcover</td>\n",
       "      <td>9.78044E+12</td>\n",
       "      <td>374 pages</td>\n",
       "      <td>4.33</td>\n",
       "      <td>5519135</td>\n",
       "      <td>160706</td>\n",
       "      <td>The Hunger Games</td>\n",
       "      <td>Young Adult|Fiction|Science Fiction|Dystopia|F...</td>\n",
       "      <td>https://images.gr-assets.com/books/1447303603l...</td>\n",
       "    </tr>\n",
       "    <tr>\n",
       "      <th>1</th>\n",
       "      <td>J.K. Rowling|Mary GrandPré</td>\n",
       "      <td>There is a door at the end of a silent corrido...</td>\n",
       "      <td>US Edition</td>\n",
       "      <td>Paperback</td>\n",
       "      <td>9.78044E+12</td>\n",
       "      <td>870 pages</td>\n",
       "      <td>4.48</td>\n",
       "      <td>2041594</td>\n",
       "      <td>33264</td>\n",
       "      <td>Harry Potter and the Order of the Phoenix</td>\n",
       "      <td>Fantasy|Young Adult|Fiction</td>\n",
       "      <td>https://images.gr-assets.com/books/1255614970l...</td>\n",
       "    </tr>\n",
       "    <tr>\n",
       "      <th>2</th>\n",
       "      <td>Harper Lee</td>\n",
       "      <td>The unforgettable novel of a childhood in a sl...</td>\n",
       "      <td>50th Anniversary</td>\n",
       "      <td>Paperback</td>\n",
       "      <td>9.78006E+12</td>\n",
       "      <td>324 pages</td>\n",
       "      <td>4.27</td>\n",
       "      <td>3745197</td>\n",
       "      <td>79450</td>\n",
       "      <td>To Kill a Mockingbird</td>\n",
       "      <td>Classics|Fiction|Historical|Historical Fiction...</td>\n",
       "      <td>https://images.gr-assets.com/books/1361975680l...</td>\n",
       "    </tr>\n",
       "    <tr>\n",
       "      <th>3</th>\n",
       "      <td>Jane Austen|Anna Quindlen|Mrs. Oliphant|George...</td>\n",
       "      <td>«È cosa ormai risaputa che a uno scapolo in po...</td>\n",
       "      <td>Modern Library Classics, USA / CAN</td>\n",
       "      <td>Paperback</td>\n",
       "      <td>9.78068E+12</td>\n",
       "      <td>279 pages</td>\n",
       "      <td>4.25</td>\n",
       "      <td>2453620</td>\n",
       "      <td>54322</td>\n",
       "      <td>Pride and Prejudice</td>\n",
       "      <td>Classics|Fiction|Romance</td>\n",
       "      <td>https://images.gr-assets.com/books/1320399351l...</td>\n",
       "    </tr>\n",
       "    <tr>\n",
       "      <th>4</th>\n",
       "      <td>Stephenie Meyer</td>\n",
       "      <td>About three things I was absolutely positive.F...</td>\n",
       "      <td>NaN</td>\n",
       "      <td>Paperback</td>\n",
       "      <td>9.78032E+12</td>\n",
       "      <td>498 pages</td>\n",
       "      <td>3.58</td>\n",
       "      <td>4281268</td>\n",
       "      <td>97991</td>\n",
       "      <td>Twilight</td>\n",
       "      <td>Young Adult|Fantasy|Romance|Paranormal|Vampire...</td>\n",
       "      <td>https://images.gr-assets.com/books/1361039443l...</td>\n",
       "    </tr>\n",
       "  </tbody>\n",
       "</table>\n",
       "</div>"
      ],
      "text/plain": [
       "                                        book_authors  \\\n",
       "0                                    Suzanne Collins   \n",
       "1                         J.K. Rowling|Mary GrandPré   \n",
       "2                                         Harper Lee   \n",
       "3  Jane Austen|Anna Quindlen|Mrs. Oliphant|George...   \n",
       "4                                    Stephenie Meyer   \n",
       "\n",
       "                                           book_desc  \\\n",
       "0  Winning will make you famous. Losing means cer...   \n",
       "1  There is a door at the end of a silent corrido...   \n",
       "2  The unforgettable novel of a childhood in a sl...   \n",
       "3  «È cosa ormai risaputa che a uno scapolo in po...   \n",
       "4  About three things I was absolutely positive.F...   \n",
       "\n",
       "                         book_edition book_format    book_isbn book_pages  \\\n",
       "0                                 NaN   Hardcover  9.78044E+12  374 pages   \n",
       "1                          US Edition   Paperback  9.78044E+12  870 pages   \n",
       "2                    50th Anniversary   Paperback  9.78006E+12  324 pages   \n",
       "3  Modern Library Classics, USA / CAN   Paperback  9.78068E+12  279 pages   \n",
       "4                                 NaN   Paperback  9.78032E+12  498 pages   \n",
       "\n",
       "   book_rating  book_rating_count  book_review_count  \\\n",
       "0         4.33            5519135             160706   \n",
       "1         4.48            2041594              33264   \n",
       "2         4.27            3745197              79450   \n",
       "3         4.25            2453620              54322   \n",
       "4         3.58            4281268              97991   \n",
       "\n",
       "                                  book_title  \\\n",
       "0                           The Hunger Games   \n",
       "1  Harry Potter and the Order of the Phoenix   \n",
       "2                      To Kill a Mockingbird   \n",
       "3                        Pride and Prejudice   \n",
       "4                                   Twilight   \n",
       "\n",
       "                                              genres  \\\n",
       "0  Young Adult|Fiction|Science Fiction|Dystopia|F...   \n",
       "1                        Fantasy|Young Adult|Fiction   \n",
       "2  Classics|Fiction|Historical|Historical Fiction...   \n",
       "3                           Classics|Fiction|Romance   \n",
       "4  Young Adult|Fantasy|Romance|Paranormal|Vampire...   \n",
       "\n",
       "                                           image_url  \n",
       "0  https://images.gr-assets.com/books/1447303603l...  \n",
       "1  https://images.gr-assets.com/books/1255614970l...  \n",
       "2  https://images.gr-assets.com/books/1361975680l...  \n",
       "3  https://images.gr-assets.com/books/1320399351l...  \n",
       "4  https://images.gr-assets.com/books/1361039443l...  "
      ]
     },
     "execution_count": 216,
     "metadata": {},
     "output_type": "execute_result"
    }
   ],
   "source": [
    "books.head()"
   ]
  },
  {
   "cell_type": "code",
   "execution_count": 217,
   "id": "0e11e5cc",
   "metadata": {},
   "outputs": [],
   "source": [
    "# books = pd.read_csv('book_data.csv')"
   ]
  },
  {
   "cell_type": "code",
   "execution_count": 218,
   "id": "1041500b",
   "metadata": {},
   "outputs": [],
   "source": [
    "books = books.drop_duplicates( subset='book_title',keep='last')\n",
    "# print(df2)"
   ]
  },
  {
   "cell_type": "code",
   "execution_count": null,
   "id": "fdb8bca2",
   "metadata": {},
   "outputs": [],
   "source": []
  },
  {
   "cell_type": "code",
   "execution_count": null,
   "id": "98943ccf",
   "metadata": {},
   "outputs": [],
   "source": []
  },
  {
   "cell_type": "code",
   "execution_count": null,
   "id": "3ebc499c",
   "metadata": {},
   "outputs": [],
   "source": []
  },
  {
   "cell_type": "code",
   "execution_count": 219,
   "id": "844c2731",
   "metadata": {},
   "outputs": [],
   "source": [
    "books = books.sort_values('book_rating_count',ascending = False)[:7000]"
   ]
  },
  {
   "cell_type": "code",
   "execution_count": 220,
   "id": "08b78940",
   "metadata": {},
   "outputs": [],
   "source": [
    "books = books.reset_index(drop = True)"
   ]
  },
  {
   "cell_type": "code",
   "execution_count": 221,
   "id": "64ca3046",
   "metadata": {},
   "outputs": [
    {
     "data": {
      "text/plain": [
       "(7000, 12)"
      ]
     },
     "execution_count": 221,
     "metadata": {},
     "output_type": "execute_result"
    }
   ],
   "source": [
    "books.shape"
   ]
  },
  {
   "cell_type": "code",
   "execution_count": 222,
   "id": "c81a9882",
   "metadata": {},
   "outputs": [
    {
     "name": "stdout",
     "output_type": "stream",
     "text": [
      "<class 'pandas.core.frame.DataFrame'>\n",
      "RangeIndex: 7000 entries, 0 to 6999\n",
      "Data columns (total 12 columns):\n",
      " #   Column             Non-Null Count  Dtype  \n",
      "---  ------             --------------  -----  \n",
      " 0   book_authors       7000 non-null   object \n",
      " 1   book_desc          6984 non-null   object \n",
      " 2   book_edition       1018 non-null   object \n",
      " 3   book_format        6908 non-null   object \n",
      " 4   book_isbn          5689 non-null   object \n",
      " 5   book_pages         6919 non-null   object \n",
      " 6   book_rating        7000 non-null   float64\n",
      " 7   book_rating_count  7000 non-null   int64  \n",
      " 8   book_review_count  7000 non-null   int64  \n",
      " 9   book_title         7000 non-null   object \n",
      " 10  genres             6999 non-null   object \n",
      " 11  image_url          6982 non-null   object \n",
      "dtypes: float64(1), int64(2), object(9)\n",
      "memory usage: 656.4+ KB\n"
     ]
    }
   ],
   "source": [
    "books.info()"
   ]
  },
  {
   "cell_type": "code",
   "execution_count": 223,
   "id": "e9539082",
   "metadata": {},
   "outputs": [],
   "source": [
    "#book_authors       \n",
    "#book_desc\n",
    "#book_isbn          \n",
    "#book_title         \n",
    "#genres             \n",
    "#image_url          \n",
    "\n",
    "books = books[['book_title','book_authors','book_desc','genres','image_url']]"
   ]
  },
  {
   "cell_type": "code",
   "execution_count": 224,
   "id": "4fca9d1b",
   "metadata": {},
   "outputs": [
    {
     "data": {
      "text/plain": [
       "book_title       0\n",
       "book_authors     0\n",
       "book_desc       16\n",
       "genres           1\n",
       "image_url       18\n",
       "dtype: int64"
      ]
     },
     "execution_count": 224,
     "metadata": {},
     "output_type": "execute_result"
    }
   ],
   "source": [
    "books.isnull().sum()"
   ]
  },
  {
   "cell_type": "code",
   "execution_count": 225,
   "id": "e2688790",
   "metadata": {},
   "outputs": [],
   "source": [
    "books = books.dropna()"
   ]
  },
  {
   "cell_type": "code",
   "execution_count": 226,
   "id": "1a3ff7b7",
   "metadata": {},
   "outputs": [
    {
     "data": {
      "text/plain": [
       "book_title      0\n",
       "book_authors    0\n",
       "book_desc       0\n",
       "genres          0\n",
       "image_url       0\n",
       "dtype: int64"
      ]
     },
     "execution_count": 226,
     "metadata": {},
     "output_type": "execute_result"
    }
   ],
   "source": [
    "books.isnull().sum()"
   ]
  },
  {
   "cell_type": "code",
   "execution_count": 227,
   "id": "761544b6",
   "metadata": {},
   "outputs": [
    {
     "data": {
      "text/plain": [
       "0"
      ]
     },
     "execution_count": 227,
     "metadata": {},
     "output_type": "execute_result"
    }
   ],
   "source": [
    "books.duplicated().sum()"
   ]
  },
  {
   "cell_type": "code",
   "execution_count": 228,
   "id": "d4824055",
   "metadata": {},
   "outputs": [],
   "source": [
    "books = books.reset_index(drop = True)"
   ]
  },
  {
   "cell_type": "code",
   "execution_count": 229,
   "id": "9e3c8dcc",
   "metadata": {},
   "outputs": [
    {
     "data": {
      "text/html": [
       "<div>\n",
       "<style scoped>\n",
       "    .dataframe tbody tr th:only-of-type {\n",
       "        vertical-align: middle;\n",
       "    }\n",
       "\n",
       "    .dataframe tbody tr th {\n",
       "        vertical-align: top;\n",
       "    }\n",
       "\n",
       "    .dataframe thead th {\n",
       "        text-align: right;\n",
       "    }\n",
       "</style>\n",
       "<table border=\"1\" class=\"dataframe\">\n",
       "  <thead>\n",
       "    <tr style=\"text-align: right;\">\n",
       "      <th></th>\n",
       "      <th>book_title</th>\n",
       "      <th>book_authors</th>\n",
       "      <th>book_desc</th>\n",
       "      <th>genres</th>\n",
       "      <th>image_url</th>\n",
       "    </tr>\n",
       "  </thead>\n",
       "  <tbody>\n",
       "    <tr>\n",
       "      <th>0</th>\n",
       "      <td>Harry Potter and the Sorcerer's Stone</td>\n",
       "      <td>J.K. Rowling|Mary GrandPré</td>\n",
       "      <td>Harry Potter's life is miserable. His parents ...</td>\n",
       "      <td>Fantasy|Young Adult|Fiction</td>\n",
       "      <td>https://images.gr-assets.com/books/1474154022l...</td>\n",
       "    </tr>\n",
       "    <tr>\n",
       "      <th>1</th>\n",
       "      <td>Los juegos del hambre</td>\n",
       "      <td>Suzanne Collins</td>\n",
       "      <td>\\r\\r\\nGanar significa fama y fortuna. Perder s...</td>\n",
       "      <td>Young Adult|Fiction|Science Fiction|Dystopia|F...</td>\n",
       "      <td>https://images.gr-assets.com/books/1335891621l...</td>\n",
       "    </tr>\n",
       "    <tr>\n",
       "      <th>2</th>\n",
       "      <td>Bado žaidynės</td>\n",
       "      <td>Suzanne Collins|Ina Jakaitė</td>\n",
       "      <td>LAIMĖJIMAS ATNEŠ ŠLOVĘ IR TURTĄ.PRALAIMĖJIMAS ...</td>\n",
       "      <td>Young Adult|Fiction|Science Fiction|Dystopia|F...</td>\n",
       "      <td>https://images.gr-assets.com/books/1303117363l...</td>\n",
       "    </tr>\n",
       "    <tr>\n",
       "      <th>3</th>\n",
       "      <td>Açlık Oyunları</td>\n",
       "      <td>Suzanne Collins|Sevinç Tezcan Yanar</td>\n",
       "      <td>Etkileyici bir fantastik dünya, bitmek bilmeye...</td>\n",
       "      <td>Young Adult|Fiction|Science Fiction|Dystopia|F...</td>\n",
       "      <td>https://images.gr-assets.com/books/1275904617l...</td>\n",
       "    </tr>\n",
       "    <tr>\n",
       "      <th>4</th>\n",
       "      <td>Hunger Games</td>\n",
       "      <td>Suzanne Collins|Fabio Paracchini|Simona Brogli</td>\n",
       "      <td>Quando Katniss urla \"Mi offro volontaria, mi o...</td>\n",
       "      <td>Young Adult|Fiction|Science Fiction|Dystopia|F...</td>\n",
       "      <td>https://images.gr-assets.com/books/1335446608l...</td>\n",
       "    </tr>\n",
       "  </tbody>\n",
       "</table>\n",
       "</div>"
      ],
      "text/plain": [
       "                              book_title  \\\n",
       "0  Harry Potter and the Sorcerer's Stone   \n",
       "1                  Los juegos del hambre   \n",
       "2                          Bado žaidynės   \n",
       "3                         Açlık Oyunları   \n",
       "4                           Hunger Games   \n",
       "\n",
       "                                     book_authors  \\\n",
       "0                      J.K. Rowling|Mary GrandPré   \n",
       "1                                 Suzanne Collins   \n",
       "2                     Suzanne Collins|Ina Jakaitė   \n",
       "3             Suzanne Collins|Sevinç Tezcan Yanar   \n",
       "4  Suzanne Collins|Fabio Paracchini|Simona Brogli   \n",
       "\n",
       "                                           book_desc  \\\n",
       "0  Harry Potter's life is miserable. His parents ...   \n",
       "1  \\r\\r\\nGanar significa fama y fortuna. Perder s...   \n",
       "2  LAIMĖJIMAS ATNEŠ ŠLOVĘ IR TURTĄ.PRALAIMĖJIMAS ...   \n",
       "3  Etkileyici bir fantastik dünya, bitmek bilmeye...   \n",
       "4  Quando Katniss urla \"Mi offro volontaria, mi o...   \n",
       "\n",
       "                                              genres  \\\n",
       "0                        Fantasy|Young Adult|Fiction   \n",
       "1  Young Adult|Fiction|Science Fiction|Dystopia|F...   \n",
       "2  Young Adult|Fiction|Science Fiction|Dystopia|F...   \n",
       "3  Young Adult|Fiction|Science Fiction|Dystopia|F...   \n",
       "4  Young Adult|Fiction|Science Fiction|Dystopia|F...   \n",
       "\n",
       "                                           image_url  \n",
       "0  https://images.gr-assets.com/books/1474154022l...  \n",
       "1  https://images.gr-assets.com/books/1335891621l...  \n",
       "2  https://images.gr-assets.com/books/1303117363l...  \n",
       "3  https://images.gr-assets.com/books/1275904617l...  \n",
       "4  https://images.gr-assets.com/books/1335446608l...  "
      ]
     },
     "execution_count": 229,
     "metadata": {},
     "output_type": "execute_result"
    }
   ],
   "source": [
    "books.head()"
   ]
  },
  {
   "cell_type": "code",
   "execution_count": 230,
   "id": "2cd110ed",
   "metadata": {},
   "outputs": [
    {
     "data": {
      "text/plain": [
       "'Fantasy|Young Adult|Fiction'"
      ]
     },
     "execution_count": 230,
     "metadata": {},
     "output_type": "execute_result"
    }
   ],
   "source": [
    "books['genres'][0]"
   ]
  },
  {
   "cell_type": "code",
   "execution_count": 231,
   "id": "a3bfdfe0",
   "metadata": {},
   "outputs": [],
   "source": [
    "def convert_genres(text):\n",
    "    L = text.split('|')\n",
    "    L1 = []\n",
    "    for i in L:\n",
    "        L1.append(i.lower().replace(\" \",\"\"))\n",
    "    \n",
    "    L1 = set(L1)\n",
    "    L1 = list(L1)\n",
    "    return L1"
   ]
  },
  {
   "cell_type": "code",
   "execution_count": 232,
   "id": "0f6f7f68",
   "metadata": {},
   "outputs": [
    {
     "data": {
      "text/plain": [
       "['youngadult', 'fiction', 'fantasy']"
      ]
     },
     "execution_count": 232,
     "metadata": {},
     "output_type": "execute_result"
    }
   ],
   "source": [
    "convert_genres(books['genres'][0])"
   ]
  },
  {
   "cell_type": "code",
   "execution_count": 233,
   "id": "13af3c6f",
   "metadata": {},
   "outputs": [],
   "source": [
    "books['genres'] = books['genres'].apply(convert_genres)"
   ]
  },
  {
   "cell_type": "code",
   "execution_count": 234,
   "id": "8e35130c",
   "metadata": {},
   "outputs": [
    {
     "data": {
      "text/html": [
       "<div>\n",
       "<style scoped>\n",
       "    .dataframe tbody tr th:only-of-type {\n",
       "        vertical-align: middle;\n",
       "    }\n",
       "\n",
       "    .dataframe tbody tr th {\n",
       "        vertical-align: top;\n",
       "    }\n",
       "\n",
       "    .dataframe thead th {\n",
       "        text-align: right;\n",
       "    }\n",
       "</style>\n",
       "<table border=\"1\" class=\"dataframe\">\n",
       "  <thead>\n",
       "    <tr style=\"text-align: right;\">\n",
       "      <th></th>\n",
       "      <th>book_title</th>\n",
       "      <th>book_authors</th>\n",
       "      <th>book_desc</th>\n",
       "      <th>genres</th>\n",
       "      <th>image_url</th>\n",
       "    </tr>\n",
       "  </thead>\n",
       "  <tbody>\n",
       "    <tr>\n",
       "      <th>0</th>\n",
       "      <td>Harry Potter and the Sorcerer's Stone</td>\n",
       "      <td>J.K. Rowling|Mary GrandPré</td>\n",
       "      <td>Harry Potter's life is miserable. His parents ...</td>\n",
       "      <td>[youngadult, fiction, fantasy]</td>\n",
       "      <td>https://images.gr-assets.com/books/1474154022l...</td>\n",
       "    </tr>\n",
       "    <tr>\n",
       "      <th>1</th>\n",
       "      <td>Los juegos del hambre</td>\n",
       "      <td>Suzanne Collins</td>\n",
       "      <td>\\r\\r\\nGanar significa fama y fortuna. Perder s...</td>\n",
       "      <td>[fiction, fantasy, postapocalyptic, romance, a...</td>\n",
       "      <td>https://images.gr-assets.com/books/1335891621l...</td>\n",
       "    </tr>\n",
       "    <tr>\n",
       "      <th>2</th>\n",
       "      <td>Bado žaidynės</td>\n",
       "      <td>Suzanne Collins|Ina Jakaitė</td>\n",
       "      <td>LAIMĖJIMAS ATNEŠ ŠLOVĘ IR TURTĄ.PRALAIMĖJIMAS ...</td>\n",
       "      <td>[fiction, fantasy, sciencefiction, youngadult,...</td>\n",
       "      <td>https://images.gr-assets.com/books/1303117363l...</td>\n",
       "    </tr>\n",
       "    <tr>\n",
       "      <th>3</th>\n",
       "      <td>Açlık Oyunları</td>\n",
       "      <td>Suzanne Collins|Sevinç Tezcan Yanar</td>\n",
       "      <td>Etkileyici bir fantastik dünya, bitmek bilmeye...</td>\n",
       "      <td>[fiction, fantasy, sciencefiction, youngadult,...</td>\n",
       "      <td>https://images.gr-assets.com/books/1275904617l...</td>\n",
       "    </tr>\n",
       "    <tr>\n",
       "      <th>4</th>\n",
       "      <td>Hunger Games</td>\n",
       "      <td>Suzanne Collins|Fabio Paracchini|Simona Brogli</td>\n",
       "      <td>Quando Katniss urla \"Mi offro volontaria, mi o...</td>\n",
       "      <td>[fiction, fantasy, sciencefiction, youngadult,...</td>\n",
       "      <td>https://images.gr-assets.com/books/1335446608l...</td>\n",
       "    </tr>\n",
       "  </tbody>\n",
       "</table>\n",
       "</div>"
      ],
      "text/plain": [
       "                              book_title  \\\n",
       "0  Harry Potter and the Sorcerer's Stone   \n",
       "1                  Los juegos del hambre   \n",
       "2                          Bado žaidynės   \n",
       "3                         Açlık Oyunları   \n",
       "4                           Hunger Games   \n",
       "\n",
       "                                     book_authors  \\\n",
       "0                      J.K. Rowling|Mary GrandPré   \n",
       "1                                 Suzanne Collins   \n",
       "2                     Suzanne Collins|Ina Jakaitė   \n",
       "3             Suzanne Collins|Sevinç Tezcan Yanar   \n",
       "4  Suzanne Collins|Fabio Paracchini|Simona Brogli   \n",
       "\n",
       "                                           book_desc  \\\n",
       "0  Harry Potter's life is miserable. His parents ...   \n",
       "1  \\r\\r\\nGanar significa fama y fortuna. Perder s...   \n",
       "2  LAIMĖJIMAS ATNEŠ ŠLOVĘ IR TURTĄ.PRALAIMĖJIMAS ...   \n",
       "3  Etkileyici bir fantastik dünya, bitmek bilmeye...   \n",
       "4  Quando Katniss urla \"Mi offro volontaria, mi o...   \n",
       "\n",
       "                                              genres  \\\n",
       "0                     [youngadult, fiction, fantasy]   \n",
       "1  [fiction, fantasy, postapocalyptic, romance, a...   \n",
       "2  [fiction, fantasy, sciencefiction, youngadult,...   \n",
       "3  [fiction, fantasy, sciencefiction, youngadult,...   \n",
       "4  [fiction, fantasy, sciencefiction, youngadult,...   \n",
       "\n",
       "                                           image_url  \n",
       "0  https://images.gr-assets.com/books/1474154022l...  \n",
       "1  https://images.gr-assets.com/books/1335891621l...  \n",
       "2  https://images.gr-assets.com/books/1303117363l...  \n",
       "3  https://images.gr-assets.com/books/1275904617l...  \n",
       "4  https://images.gr-assets.com/books/1335446608l...  "
      ]
     },
     "execution_count": 234,
     "metadata": {},
     "output_type": "execute_result"
    }
   ],
   "source": [
    "books.head()"
   ]
  },
  {
   "cell_type": "code",
   "execution_count": null,
   "id": "16699dd4",
   "metadata": {},
   "outputs": [],
   "source": []
  },
  {
   "cell_type": "code",
   "execution_count": 235,
   "id": "f78dea90",
   "metadata": {},
   "outputs": [],
   "source": [
    "def convert_authors(text):\n",
    "    L = text.split('|')\n",
    "    L1 = []\n",
    "    for i in L:\n",
    "        L1.append(i.lower().replace(\" \",\"\"))\n",
    "    \n",
    "    L1 = set(L1)\n",
    "    L1 = list(L1)\n",
    "    return L1"
   ]
  },
  {
   "cell_type": "code",
   "execution_count": 236,
   "id": "c29e562d",
   "metadata": {},
   "outputs": [
    {
     "data": {
      "text/plain": [
       "'J.K. Rowling|Mary GrandPré'"
      ]
     },
     "execution_count": 236,
     "metadata": {},
     "output_type": "execute_result"
    }
   ],
   "source": [
    "books['book_authors'][0]"
   ]
  },
  {
   "cell_type": "code",
   "execution_count": 237,
   "id": "9a34eabe",
   "metadata": {},
   "outputs": [
    {
     "data": {
      "text/plain": [
       "['marygrandpré', 'j.k.rowling']"
      ]
     },
     "execution_count": 237,
     "metadata": {},
     "output_type": "execute_result"
    }
   ],
   "source": [
    "convert_authors(books['book_authors'][0])"
   ]
  },
  {
   "cell_type": "code",
   "execution_count": 238,
   "id": "68e1f877",
   "metadata": {},
   "outputs": [],
   "source": [
    "books['book_authors'] = books['book_authors'].apply(convert_authors)"
   ]
  },
  {
   "cell_type": "code",
   "execution_count": 239,
   "id": "6930cfc6",
   "metadata": {
    "scrolled": false
   },
   "outputs": [
    {
     "data": {
      "text/plain": [
       "'\\r\\r\\nGanar significa fama y fortuna. Perder significa una muerte segura. Los Juegos del Hambre han comenzado... \\r\\r\\nUn pasado de guerras ha dejado los 12 distritos que dividen Panem bajo el poder tiránico del “Capitolio”. Sin libertad y en la pobreza, nadie puede salir de los límites de su distrito. Sólo una chica de 16 años, Katniss Everdeen, osa desafiar las normas para conseguir comida. Sus principios se pondrán a prueba con “Los juegos del hambre”, espectáculo televisado que el Capitolio organiza para humillar a la población. Cada año, 2 representantes de cada distrito serán obligados a subsistir en un medio hostil y luchar a muerte entre ellos hasta que quede un solo superviviente. Cuando su hermana pequeña es elegida para participar, Katniss no duda en ocupar su lugar, decidida a demostrar con su actitud firme y decidida, que aún en las situaciones más desesperadas hay lugar para el amor y el respeto.'"
      ]
     },
     "execution_count": 239,
     "metadata": {},
     "output_type": "execute_result"
    }
   ],
   "source": [
    "books['book_desc'][1]"
   ]
  },
  {
   "cell_type": "code",
   "execution_count": null,
   "id": "b1bb52aa",
   "metadata": {},
   "outputs": [],
   "source": [
    "  "
   ]
  },
  {
   "cell_type": "code",
   "execution_count": 240,
   "id": "906d3376",
   "metadata": {},
   "outputs": [],
   "source": [
    "books = books.reset_index(drop = True)"
   ]
  },
  {
   "cell_type": "code",
   "execution_count": 241,
   "id": "c7949cf7",
   "metadata": {},
   "outputs": [
    {
     "data": {
      "text/html": [
       "<div>\n",
       "<style scoped>\n",
       "    .dataframe tbody tr th:only-of-type {\n",
       "        vertical-align: middle;\n",
       "    }\n",
       "\n",
       "    .dataframe tbody tr th {\n",
       "        vertical-align: top;\n",
       "    }\n",
       "\n",
       "    .dataframe thead th {\n",
       "        text-align: right;\n",
       "    }\n",
       "</style>\n",
       "<table border=\"1\" class=\"dataframe\">\n",
       "  <thead>\n",
       "    <tr style=\"text-align: right;\">\n",
       "      <th></th>\n",
       "      <th>book_title</th>\n",
       "      <th>book_authors</th>\n",
       "      <th>book_desc</th>\n",
       "      <th>genres</th>\n",
       "      <th>image_url</th>\n",
       "    </tr>\n",
       "  </thead>\n",
       "  <tbody>\n",
       "    <tr>\n",
       "      <th>0</th>\n",
       "      <td>Harry Potter and the Sorcerer's Stone</td>\n",
       "      <td>[marygrandpré, j.k.rowling]</td>\n",
       "      <td>Harry Potter's life is miserable. His parents ...</td>\n",
       "      <td>[youngadult, fiction, fantasy]</td>\n",
       "      <td>https://images.gr-assets.com/books/1474154022l...</td>\n",
       "    </tr>\n",
       "    <tr>\n",
       "      <th>1</th>\n",
       "      <td>Los juegos del hambre</td>\n",
       "      <td>[suzannecollins]</td>\n",
       "      <td>\\r\\r\\nGanar significa fama y fortuna. Perder s...</td>\n",
       "      <td>[fiction, fantasy, postapocalyptic, romance, a...</td>\n",
       "      <td>https://images.gr-assets.com/books/1335891621l...</td>\n",
       "    </tr>\n",
       "    <tr>\n",
       "      <th>2</th>\n",
       "      <td>Bado žaidynės</td>\n",
       "      <td>[inajakaitė, suzannecollins]</td>\n",
       "      <td>LAIMĖJIMAS ATNEŠ ŠLOVĘ IR TURTĄ.PRALAIMĖJIMAS ...</td>\n",
       "      <td>[fiction, fantasy, sciencefiction, youngadult,...</td>\n",
       "      <td>https://images.gr-assets.com/books/1303117363l...</td>\n",
       "    </tr>\n",
       "    <tr>\n",
       "      <th>3</th>\n",
       "      <td>Açlık Oyunları</td>\n",
       "      <td>[sevinçtezcanyanar, suzannecollins]</td>\n",
       "      <td>Etkileyici bir fantastik dünya, bitmek bilmeye...</td>\n",
       "      <td>[fiction, fantasy, sciencefiction, youngadult,...</td>\n",
       "      <td>https://images.gr-assets.com/books/1275904617l...</td>\n",
       "    </tr>\n",
       "    <tr>\n",
       "      <th>4</th>\n",
       "      <td>Hunger Games</td>\n",
       "      <td>[simonabrogli, fabioparacchini, suzannecollins]</td>\n",
       "      <td>Quando Katniss urla \"Mi offro volontaria, mi o...</td>\n",
       "      <td>[fiction, fantasy, sciencefiction, youngadult,...</td>\n",
       "      <td>https://images.gr-assets.com/books/1335446608l...</td>\n",
       "    </tr>\n",
       "  </tbody>\n",
       "</table>\n",
       "</div>"
      ],
      "text/plain": [
       "                              book_title  \\\n",
       "0  Harry Potter and the Sorcerer's Stone   \n",
       "1                  Los juegos del hambre   \n",
       "2                          Bado žaidynės   \n",
       "3                         Açlık Oyunları   \n",
       "4                           Hunger Games   \n",
       "\n",
       "                                      book_authors  \\\n",
       "0                      [marygrandpré, j.k.rowling]   \n",
       "1                                 [suzannecollins]   \n",
       "2                     [inajakaitė, suzannecollins]   \n",
       "3              [sevinçtezcanyanar, suzannecollins]   \n",
       "4  [simonabrogli, fabioparacchini, suzannecollins]   \n",
       "\n",
       "                                           book_desc  \\\n",
       "0  Harry Potter's life is miserable. His parents ...   \n",
       "1  \\r\\r\\nGanar significa fama y fortuna. Perder s...   \n",
       "2  LAIMĖJIMAS ATNEŠ ŠLOVĘ IR TURTĄ.PRALAIMĖJIMAS ...   \n",
       "3  Etkileyici bir fantastik dünya, bitmek bilmeye...   \n",
       "4  Quando Katniss urla \"Mi offro volontaria, mi o...   \n",
       "\n",
       "                                              genres  \\\n",
       "0                     [youngadult, fiction, fantasy]   \n",
       "1  [fiction, fantasy, postapocalyptic, romance, a...   \n",
       "2  [fiction, fantasy, sciencefiction, youngadult,...   \n",
       "3  [fiction, fantasy, sciencefiction, youngadult,...   \n",
       "4  [fiction, fantasy, sciencefiction, youngadult,...   \n",
       "\n",
       "                                           image_url  \n",
       "0  https://images.gr-assets.com/books/1474154022l...  \n",
       "1  https://images.gr-assets.com/books/1335891621l...  \n",
       "2  https://images.gr-assets.com/books/1303117363l...  \n",
       "3  https://images.gr-assets.com/books/1275904617l...  \n",
       "4  https://images.gr-assets.com/books/1335446608l...  "
      ]
     },
     "execution_count": 241,
     "metadata": {},
     "output_type": "execute_result"
    }
   ],
   "source": [
    "books.head()"
   ]
  },
  {
   "cell_type": "code",
   "execution_count": 242,
   "id": "f4252089",
   "metadata": {},
   "outputs": [],
   "source": [
    "from langdetect import detect"
   ]
  },
  {
   "cell_type": "code",
   "execution_count": 243,
   "id": "25d94472",
   "metadata": {},
   "outputs": [
    {
     "data": {
      "text/plain": [
       "(6965,)"
      ]
     },
     "execution_count": 243,
     "metadata": {},
     "output_type": "execute_result"
    }
   ],
   "source": [
    "books['book_desc'].shape"
   ]
  },
  {
   "cell_type": "code",
   "execution_count": 244,
   "id": "18d7f3dd",
   "metadata": {},
   "outputs": [],
   "source": [
    "# books['book_desc'].apply(detect)"
   ]
  },
  {
   "cell_type": "code",
   "execution_count": 245,
   "id": "622922b2",
   "metadata": {
    "scrolled": false
   },
   "outputs": [
    {
     "data": {
      "text/plain": [
       "book_title                                              El Hobbit\n",
       "book_authors                      [manuelfigueroa, j.r.r.tolkien]\n",
       "book_desc       Smaug parecIa profundamente dormido cuando Bil...\n",
       "genres          [classics, fiction, fantasy, sciencefictionfan...\n",
       "image_url       https://images.gr-assets.com/books/1354394903l...\n",
       "Name: 29, dtype: object"
      ]
     },
     "execution_count": 245,
     "metadata": {},
     "output_type": "execute_result"
    }
   ],
   "source": [
    "books.iloc[29]"
   ]
  },
  {
   "cell_type": "code",
   "execution_count": 36,
   "id": "d7aa6033",
   "metadata": {
    "collapsed": true
   },
   "outputs": [
    {
     "ename": "KeyError",
     "evalue": "15528",
     "output_type": "error",
     "traceback": [
      "\u001b[1;31m---------------------------------------------------------------------------\u001b[0m",
      "\u001b[1;31mValueError\u001b[0m                                Traceback (most recent call last)",
      "File \u001b[1;32m~\\AppData\\Local\\Programs\\Python\\Python310\\lib\\site-packages\\pandas\\core\\indexes\\range.py:385\u001b[0m, in \u001b[0;36mRangeIndex.get_loc\u001b[1;34m(self, key, method, tolerance)\u001b[0m\n\u001b[0;32m    384\u001b[0m \u001b[38;5;28;01mtry\u001b[39;00m:\n\u001b[1;32m--> 385\u001b[0m     \u001b[38;5;28;01mreturn\u001b[39;00m \u001b[38;5;28;43mself\u001b[39;49m\u001b[38;5;241;43m.\u001b[39;49m\u001b[43m_range\u001b[49m\u001b[38;5;241;43m.\u001b[39;49m\u001b[43mindex\u001b[49m\u001b[43m(\u001b[49m\u001b[43mnew_key\u001b[49m\u001b[43m)\u001b[49m\n\u001b[0;32m    386\u001b[0m \u001b[38;5;28;01mexcept\u001b[39;00m \u001b[38;5;167;01mValueError\u001b[39;00m \u001b[38;5;28;01mas\u001b[39;00m err:\n",
      "\u001b[1;31mValueError\u001b[0m: 15528 is not in range",
      "\nThe above exception was the direct cause of the following exception:\n",
      "\u001b[1;31mKeyError\u001b[0m                                  Traceback (most recent call last)",
      "Input \u001b[1;32mIn [36]\u001b[0m, in \u001b[0;36m<cell line: 1>\u001b[1;34m()\u001b[0m\n\u001b[1;32m----> 1\u001b[0m \u001b[43mbooks\u001b[49m\u001b[43m[\u001b[49m\u001b[38;5;124;43m'\u001b[39;49m\u001b[38;5;124;43mbook_desc\u001b[39;49m\u001b[38;5;124;43m'\u001b[39;49m\u001b[43m]\u001b[49m\u001b[43m[\u001b[49m\u001b[38;5;241;43m15528\u001b[39;49m\u001b[43m]\u001b[49m\n",
      "File \u001b[1;32m~\\AppData\\Local\\Programs\\Python\\Python310\\lib\\site-packages\\pandas\\core\\series.py:958\u001b[0m, in \u001b[0;36mSeries.__getitem__\u001b[1;34m(self, key)\u001b[0m\n\u001b[0;32m    955\u001b[0m     \u001b[38;5;28;01mreturn\u001b[39;00m \u001b[38;5;28mself\u001b[39m\u001b[38;5;241m.\u001b[39m_values[key]\n\u001b[0;32m    957\u001b[0m \u001b[38;5;28;01melif\u001b[39;00m key_is_scalar:\n\u001b[1;32m--> 958\u001b[0m     \u001b[38;5;28;01mreturn\u001b[39;00m \u001b[38;5;28;43mself\u001b[39;49m\u001b[38;5;241;43m.\u001b[39;49m\u001b[43m_get_value\u001b[49m\u001b[43m(\u001b[49m\u001b[43mkey\u001b[49m\u001b[43m)\u001b[49m\n\u001b[0;32m    960\u001b[0m \u001b[38;5;28;01mif\u001b[39;00m is_hashable(key):\n\u001b[0;32m    961\u001b[0m     \u001b[38;5;66;03m# Otherwise index.get_value will raise InvalidIndexError\u001b[39;00m\n\u001b[0;32m    962\u001b[0m     \u001b[38;5;28;01mtry\u001b[39;00m:\n\u001b[0;32m    963\u001b[0m         \u001b[38;5;66;03m# For labels that don't resolve as scalars like tuples and frozensets\u001b[39;00m\n",
      "File \u001b[1;32m~\\AppData\\Local\\Programs\\Python\\Python310\\lib\\site-packages\\pandas\\core\\series.py:1069\u001b[0m, in \u001b[0;36mSeries._get_value\u001b[1;34m(self, label, takeable)\u001b[0m\n\u001b[0;32m   1066\u001b[0m     \u001b[38;5;28;01mreturn\u001b[39;00m \u001b[38;5;28mself\u001b[39m\u001b[38;5;241m.\u001b[39m_values[label]\n\u001b[0;32m   1068\u001b[0m \u001b[38;5;66;03m# Similar to Index.get_value, but we do not fall back to positional\u001b[39;00m\n\u001b[1;32m-> 1069\u001b[0m loc \u001b[38;5;241m=\u001b[39m \u001b[38;5;28;43mself\u001b[39;49m\u001b[38;5;241;43m.\u001b[39;49m\u001b[43mindex\u001b[49m\u001b[38;5;241;43m.\u001b[39;49m\u001b[43mget_loc\u001b[49m\u001b[43m(\u001b[49m\u001b[43mlabel\u001b[49m\u001b[43m)\u001b[49m\n\u001b[0;32m   1070\u001b[0m \u001b[38;5;28;01mreturn\u001b[39;00m \u001b[38;5;28mself\u001b[39m\u001b[38;5;241m.\u001b[39mindex\u001b[38;5;241m.\u001b[39m_get_values_for_loc(\u001b[38;5;28mself\u001b[39m, loc, label)\n",
      "File \u001b[1;32m~\\AppData\\Local\\Programs\\Python\\Python310\\lib\\site-packages\\pandas\\core\\indexes\\range.py:387\u001b[0m, in \u001b[0;36mRangeIndex.get_loc\u001b[1;34m(self, key, method, tolerance)\u001b[0m\n\u001b[0;32m    385\u001b[0m         \u001b[38;5;28;01mreturn\u001b[39;00m \u001b[38;5;28mself\u001b[39m\u001b[38;5;241m.\u001b[39m_range\u001b[38;5;241m.\u001b[39mindex(new_key)\n\u001b[0;32m    386\u001b[0m     \u001b[38;5;28;01mexcept\u001b[39;00m \u001b[38;5;167;01mValueError\u001b[39;00m \u001b[38;5;28;01mas\u001b[39;00m err:\n\u001b[1;32m--> 387\u001b[0m         \u001b[38;5;28;01mraise\u001b[39;00m \u001b[38;5;167;01mKeyError\u001b[39;00m(key) \u001b[38;5;28;01mfrom\u001b[39;00m \u001b[38;5;21;01merr\u001b[39;00m\n\u001b[0;32m    388\u001b[0m \u001b[38;5;28mself\u001b[39m\u001b[38;5;241m.\u001b[39m_check_indexing_error(key)\n\u001b[0;32m    389\u001b[0m \u001b[38;5;28;01mraise\u001b[39;00m \u001b[38;5;167;01mKeyError\u001b[39;00m(key)\n",
      "\u001b[1;31mKeyError\u001b[0m: 15528"
     ]
    }
   ],
   "source": [
    "# books['book_desc'][15528]"
   ]
  },
  {
   "cell_type": "code",
   "execution_count": null,
   "id": "ac42ddf1",
   "metadata": {},
   "outputs": [],
   "source": [
    "# books[15525:15530]"
   ]
  },
  {
   "cell_type": "code",
   "execution_count": null,
   "id": "2f013a10",
   "metadata": {},
   "outputs": [],
   "source": [
    "# books = books.drop(15528)"
   ]
  },
  {
   "cell_type": "code",
   "execution_count": null,
   "id": "727550e9",
   "metadata": {},
   "outputs": [],
   "source": [
    "# books = books.reset_index(drop = True)"
   ]
  },
  {
   "cell_type": "code",
   "execution_count": null,
   "id": "b82d9c98",
   "metadata": {},
   "outputs": [],
   "source": [
    "# books = books.drop(22492)"
   ]
  },
  {
   "cell_type": "code",
   "execution_count": 246,
   "id": "af437a53",
   "metadata": {},
   "outputs": [],
   "source": [
    "books = books.reset_index(drop = True)"
   ]
  },
  {
   "cell_type": "code",
   "execution_count": 247,
   "id": "62464eae",
   "metadata": {},
   "outputs": [
    {
     "data": {
      "text/plain": [
       "(6965, 5)"
      ]
     },
     "execution_count": 247,
     "metadata": {},
     "output_type": "execute_result"
    }
   ],
   "source": [
    "books.shape"
   ]
  },
  {
   "cell_type": "code",
   "execution_count": 248,
   "id": "97030b52",
   "metadata": {},
   "outputs": [
    {
     "name": "stdout",
     "output_type": "stream",
     "text": [
      "295\n"
     ]
    }
   ],
   "source": [
    "try:\n",
    "    l = []\n",
    "    for i in range(6965):\n",
    "        f = detect(books['book_desc'][i])\n",
    "        l.append(f)\n",
    "except:\n",
    "    print(i)\n",
    "else:\n",
    "    print(l)"
   ]
  },
  {
   "cell_type": "code",
   "execution_count": 249,
   "id": "889da0b1",
   "metadata": {},
   "outputs": [
    {
     "data": {
      "text/plain": [
       "'.'"
      ]
     },
     "execution_count": 249,
     "metadata": {},
     "output_type": "execute_result"
    }
   ],
   "source": [
    "books['book_desc'][295]"
   ]
  },
  {
   "cell_type": "code",
   "execution_count": 250,
   "id": "23c71592",
   "metadata": {},
   "outputs": [],
   "source": [
    "books = books.drop(295)"
   ]
  },
  {
   "cell_type": "code",
   "execution_count": 251,
   "id": "dcfaf140",
   "metadata": {},
   "outputs": [],
   "source": [
    "books = books.reset_index(drop = True)"
   ]
  },
  {
   "cell_type": "code",
   "execution_count": 252,
   "id": "af6e9f78",
   "metadata": {
    "collapsed": true
   },
   "outputs": [
    {
     "name": "stdout",
     "output_type": "stream",
     "text": [
      "['en', 'en', 'en', 'fr', 'en', 'cs', 'en', 'ru', 'en', 'en', 'en', 'de', 'en', 'pt', 'en', 'en', 'pt', 'en', 'en', 'en', 'it', 'en', 'ro', 'bg', 'nl', 'en', 'hr', 'en', 'en', 'en', 'en', 'en', 'en', 'pt', 'it', 'es', 'tr', 'en', 'fa', 'es', 'de', 'it', 'en', 'it', 'en', 'en', 'en', 'en', 'es', 'tr', 'en', 'en', 'fr', 'en', 'en', 'en', 'it', 'en', 'en', 'en', 'ro', 'bg', 'it', 'en', 'es', 'fr', 'fa', 'pt', 'tr', 'en', 'pt', 'et', 'es', 'en', 'fr', 'it', 'en', 'en', 'it', 'en', 'en', 'ro', 'de', 'tr', 'sk', 'hu', 'es', 'en', 'pl', 'en', 'en', 'en', 'et', 'en', 'fr', 'tr', 'el', 'sv', 'en', 'en', 'en', 'it', 'en', 'es', 'tr', 'en', 'en', 'en', 'en', 'en', 'de', 'id', 'en', 'it', 'hr', 'en', 'tr', 'es', 'en', 'tr', 'en', 'en', 'en', 'en', 'en', 'ar', 'fi', 'pt', 'en', 'es', 'it', 'en', 'en', 'it', 'cs', 'en', 'en', 'bg', 'nl', 'ro', 'pt', 'en', 'en', 'pt', 'en', 'en', 'en', 'en', 'es', 'en', 'es', 'tr', 'tr', 'de', 'fi', 'el', 'fr', 'fa', 'en', 'id', 'es', 'en', 'en', 'en', 'en', 'en', 'en', 'en', 'en', 'en', 'tr', 'fr', 'de', 'ru', 'cs', 'pt', 'es', 'en', 'en', 'pl', 'en', 'sv', 'en', 'ru', 'es', 'en', 'en', 'en', 'fr', 'en', 'en', 'es', 'en', 'en', 'en', 'es', 'en', 'en', 'en', 'en', 'en', 'en', 'en', 'en', 'en', 'en', 'en', 'fi', 'pt', 'pl', 'tr', 'en', 'en', 'en', 'tr', 'es', 'en', 'fa', 'it', 'en', 'tr', 'en', 'hr', 'en', 'en', 'de', 'hr', 'en', 'en', 'en', 'en', 'en', 'sv', 'en', 'en', 'en', 'pt', 'es', 'ar', 'tr', 'vi', 'tr', 'ar', 'en', 'en', 'en', 'ro', 'en', 'en', 'en', 'en', 'en', 'en', 'es', 'en', 'pt', 'en', 'en', 'en', 'en', 'en', 'en', 'en', 'en', 'en', 'en', 'en', 'es', 'en', 'es', 'hr', 'nl', 'en', 'en', 'en', 'en', 'en', 'es', 'fr', 'tr', 'en', 'tr', 'en', 'en', 'en', 'en', 'ru', 'en', 'pl', 'en', 'it', 'fr', 'de', 'hu', 'en', 'es', 'fa', 'tr', 'de', 'en', 'en', 'sv', 'en', 'en', 'ro', 'bg', 'en', 'en', 'en', 'en', 'en', 'en', 'en', 'en', 'en', 'en', 'en', 'tr', 'en', 'hu', 'de', 'it', 'it', 'en', 'en', 'en', 'es', 'nl', 'cs', 'en', 'de', 'ar', 'en', 'en', 'no', 'fr', 'fr', 'en', 'pt', 'tr', 'en', 'en', 'en', 'cs', 'sl', 'et', 'fr', 'en', 'it', 'en', 'pt', 'de', 'es', 'en', 'en', 'en', 'en', 'en', 'en', 'pt', 'tr', 'en', 'bg', 'es', 'ro', 'en', 'en', 'es', 'en', 'en', 'es', 'en', 'it', 'en', 'ro', 'es', 'en', 'en', 'hr', 'hr', 'en', 'nl', 'en', 'ro', 'fr', 'cs', 'en', 'en', 'en', 'it', 'en', 'ro', 'en', 'en', 'es', 'sq', 'fr', 'it', 'es', 'en', 'ro', 'pt', 'en', 'en', 'en', 'en', 'en', 'en', 'de', 'en', 'en', 'en', 'en', 'pt', 'en', 'en', 'pt', 'fa', 'en', 'de', 'en', 'en', 'fi', 'bg', 'es', 'en', 'pt', 'en', 'en', 'tr', 'en', 'fr', 'es', 'pt', 'en', 'en', 'en', 'en', 'en', 'pt', 'sv', 'en', 'en', 'en', 'fr', 'tr', 'de', 'es', 'en', 'en', 'tr', 'ru', 'es', 'en', 'it', 'en', 'en', 'es', 'de', 'en', 'en', 'en', 'en', 'en', 'en', 'es', 'en', 'en', 'en', 'en', 'en', 'pt', 'pt', 'en', 'en', 'de', 'en', 'en', 'es', 'en', 'en', 'en', 'en', 'en', 'tr', 'en', 'en', 'de', 'pl', 'et', 'fa', 'es', 'en', 'en', 'en', 'ar', 'de', 'en', 'es', 'en', 'nl', 'en', 'it', 'en', 'en', 'en', 'pt', 'cs', 'cs', 'en', 'en', 'en', 'de', 'en', 'pt', 'en', 'en', 'en', 'es', 'en', 'en', 'en', 'en', 'en', 'tr', 'de', 'en', 'es', 'en', 'en', 'it', 'en', 'en', 'es', 'en', 'en', 'en', 'tr', 'pt', 'fa', 'en', 'en', 'en', 'en', 'it', 'en', 'sk', 'en', 'en', 'en', 'fr', 'en', 'en', 'en', 'en', 'fr', 'en', 'pl', 'pt', 'es', 'en', 'fr', 'en', 'fr', 'cs', 'es', 'en', 'en', 'en', 'pt', 'ro', 'bg', 'nl', 'es', 'en', 'tr', 'pt', 'en', 'vi', 'fr', 'en', 'en', 'en', 'en', 'en', 'en', 'en', 'en', 'en', 'en', 'en', 'en', 'ar', 'en', 'de', 'en', 'fi', 'it', 'en', 'pl', 'en', 'en', 'en', 'en', 'en', 'pt', 'en', 'en', 'cs', 'en', 'en', 'en', 'it', 'es', 'nl', 'en', 'pl', 'de', 'en', 'id', 'en', 'es', 'en', 'en', 'fi', 'en', 'it', 'en', 'en', 'fr', 'es', 'en', 'de', 'en', 'es', 'fr', 'en', 'ru', 'en', 'en', 'hr', 'hu', 'it', 'en', 'en', 'tr', 'de', 'it', 'tr', 'en', 'en', 'it', 'nl', 'ar', 'de', 'en', 'en', 'en', 'en', 'pt', 'nl', 'es', 'en', 'it', 'en', 'tr', 'en', 'en', 'en', 'en', 'en', 'en', 'en', 'en', 'en', 'en', 'pt', 'en', 'en', 'en', 'el', 'en', 'ro', 'en', 'en', 'pt', 'en', 'en', 'en', 'et', 'en', 'en', 'en', 'en', 'en', 'en', 'en', 'en', 'en', 'es', 'es', 'en', 'es', 'en', 'it', 'en', 'ro', 'bg', 'en', 'it', 'en', 'en', 'en', 'en', 'en', 'pt', 'en', 'en', 'en', 'nl', 'fr', 'en', 'en', 'tr', 'pt', 'ca', 'pt', 'ar', 'en', 'en', 'cs', 'de', 'en', 'en', 'en', 'en', 'en', 'de', 'en', 'en', 'en', 'en', 'en', 'en', 'en', 'en', 'ar', 'en', 'fr', 'tr', 'en', 'en', 'de', 'nl', 'it', 'en', 'en', 'en', 'el', 'en', 'en', 'en', 'lt', 'el', 'es', 'en', 'en', 'en', 'pl', 'en', 'en', 'de', 'en', 'en', 'en', 'en', 'en', 'en', 'en', 'en', 'en', 'en', 'en', 'fr', 'en', 'en', 'en', 'en', 'pt', 'en', 'en', 'en', 'en', 'en', 'en', 'en', 'en', 'en', 'en', 'ro', 'hr', 'en', 'tr', 'en', 'en', 'en', 'pl', 'en', 'pt', 'es', 'en', 'it', 'en', 'en', 'en', 'fr', 'es', 'en', 'es', 'en', 'en', 'en', 'de', 'en', 'en', 'en', 'en', 'en', 'en', 'en', 'en', 'pt', 'en', 'en', 'en', 'en', 'en', 'en', 'en', 'en', 'en', 'tr', 'en', 'pt', 'en', 'tr', 'en', 'en', 'tr', 'en', 'en', 'es', 'en', 'nl', 'en', 'pt', 'es', 'en', 'en', 'en', 'en', 'lt', 'es', 'en', 'en', 'en', 'en', 'it', 'en', 'en', 'en', 'fr', 'ro', 'it', 'es', 'en', 'de', 'en', 'en', 'en', 'en', 'en', 'en', 'de', 'es', 'bg', 'en', 'en', 'pl', 'en', 'fa', 'tr', 'bg', 'en', 'en', 'en', 'ar', 'sv', 'en', 'en', 'en', 'en', 'tr', 'en', 'en', 'en', 'en', 'en', 'fr', 'de', 'en', 'en', 'en', 'en', 'en', 'fr', 'en', 'en', 'en', 'en', 'en', 'en', 'en', 'en', 'en', 'en', 'en', 'es', 'en', 'en', 'en', 'pt', 'en', 'en', 'pl', 'de', 'en', 'en', 'en', 'en', 'en', 'es', 'en', 'en', 'en', 'de', 'pt', 'fr', 'en', 'en', 'en', 'de', 'en', 'it', 'pl', 'it', 'en', 'en', 'en', 'en', 'en', 'pl', 'de', 'es', 'hu', 'en', 'en', 'pt', 'tr', 'en', 'de', 'en', 'es', 'vi', 'en', 'en', 'en', 'en', 'en', 'en', 'en', 'es', 'en', 'ar', 'tr', 'it', 'en', 'es', 'en', 'en', 'en', 'en', 'tr', 'en', 'es', 'tr', 'en', 'pt', 'de', 'es', 'en', 'es', 'en', 'en', 'en', 'en', 'en', 'en', 'en', 'en', 'es', 'en', 'ro', 'en', 'en', 'en', 'en', 'en', 'en', 'it', 'en', 'en', 'en', 'en', 'en', 'ru', 'en', 'en', 'en', 'en', 'en', 'en', 'de', 'en', 'en', 'en', 'en', 'it', 'en', 'en', 'en', 'en', 'en', 'en', 'en', 'en', 'tr', 'en', 'hu', 'en', 'en', 'en', 'en', 'en', 'en', 'en', 'en', 'sv', 'en', 'tr', 'it', 'en', 'en', 'en', 'en', 'nl', 'es', 'en', 'en', 'en', 'nl', 'en', 'cs', 'en', 'en', 'en', 'en', 'es', 'en', 'en', 'en', 'en', 'tr', 'fa', 'en', 'en', 'en', 'en', 'de', 'es', 'fr', 'en', 'en', 'pl', 'fr', 'de', 'sv', 'en', 'en', 'en', 'en', 'en', 'en', 'nl', 'en', 'en', 'en', 'en', 'en', 'en', 'en', 'en', 'en', 'en', 'tr', 'en', 'pl', 'en', 'en', 'es', 'en', 'pt', 'en', 'en', 'es', 'it', 'en', 'en', 'en', 'en', 'en', 'en', 'en', 'es', 'sv', 'pt', 'ar', 'it', 'fa', 'en', 'en', 'en', 'en', 'en', 'en', 'en', 'en', 'en', 'en', 'en', 'en', 'en', 'en', 'en', 'en', 'nl', 'en', 'en', 'en', 'en', 'en', 'en', 'en', 'pl', 'en', 'en', 'tr', 'es', 'pt', 'en', 'en', 'it', 'pt', 'en', 'en', 'en', 'en', 'en', 'ro', 'en', 'tr', 'en', 'es', 'ar', 'it', 'es', 'tr', 'el', 'pt', 'en', 'en', 'en', 'en', 'en', 'en', 'it', 'en', 'en', 'en', 'en', 'en', 'en', 'pl', 'en', 'en', 'it', 'en', 'en', 'en', 'en', 'en', 'tr', 'en', 'fr', 'en', 'en', 'en', 'tr', 'en', 'en', 'en', 'en', 'en', 'en', 'en', 'en', 'en', 'fi', 'en', 'en', 'en', 'tr', 'en', 'en', 'en', 'en', 'cs', 'en', 'en', 'en', 'ro', 'en', 'en', 'en', 'en', 'cs', 'en', 'en', 'en', 'en', 'en', 'pt', 'en', 'fa', 'en', 'en', 'en', 'en', 'en', 'en', 'en', 'en', 'en', 'en', 'cs', 'en', 'ar', 'en', 'en', 'en', 'en', 'en', 'it', 'en', 'en', 'en', 'en', 'en', 'en', 'sv', 'en', 'en', 'en', 'en', 'en', 'en', 'it', 'en', 'en', 'en', 'en', 'en', 'en', 'en', 'cs', 'en', 'en', 'en', 'en', 'en', 'en', 'tr', 'it', 'fi', 'en', 'en', 'fr', 'sv', 'es', 'en', 'fr', 'en', 'en', 'fa', 'en', 'en', 'en', 'en', 'en', 'ar', 'en', 'pt', 'en', 'en', 'bg', 'en', 'en', 'en', 'en', 'en', 'en', 'en', 'en', 'en', 'en', 'en', 'en', 'en', 'de', 'en', 'en', 'en', 'en', 'en', 'de', 'pl', 'en', 'en', 'en', 'en', 'en', 'en', 'en', 'en', 'en', 'it', 'en', 'nl', 'en', 'en', 'en', 'es', 'tr', 'en', 'en', 'en', 'en', 'en', 'en', 'ro', 'el', 'en', 'en', 'en', 'de', 'en', 'en', 'tr', 'af', 'en', 'et', 'en', 'en', 'it', 'en', 'en', 'en', 'en', 'en', 'it', 'tr', 'en', 'en', 'en', 'en', 'en', 'en', 'es', 'es', 'en', 'en', 'en', 'fr', 'ro', 'ca', 'en', 'de', 'pt', 'en', 'es', 'en', 'en', 'en', 'es', 'en', 'en', 'en', 'en', 'de', 'en', 'en', 'en', 'en', 'en', 'en', 'en', 'en', 'en', 'en', 'en', 'cs', 'en', 'es', 'en', 'ro', 'en', 'en', 'en', 'en', 'en', 'en', 'de', 'tr', 'es', 'en', 'en', 'en', 'en', 'en', 'en', 'en', 'en', 'en', 'en', 'en', 'tr', 'en', 'pl', 'en', 'el', 'en', 'en', 'en', 'fr', 'en', 'en', 'en', 'en', 'id', 'cs', 'el', 'lt', 'de', 'en', 'da', 'nl', 'en', 'en', 'en', 'en', 'tr', 'de', 'fr', 'en', 'en', 'en', 'en', 'tr', 'it', 'en', 'en', 'cs', 'en', 'it', 'nl', 'en', 'en', 'en', 'cs', 'en', 'ro', 'fr', 'en', 'en', 'es', 'ru', 'en', 'en', 'en', 'en', 'en', 'en', 'en', 'en', 'it', 'en', 'en', 'bg', 'en', 'nl', 'en', 'en', 'pl', 'en', 'en', 'tr', 'en', 'en', 'en', 'en', 'es', 'en', 'fr', 'en', 'nl', 'en', 'en', 'en', 'en', 'en', 'pt', 'en', 'en', 'fr', 'en', 'en', 'en', 'en', 'en', 'en', 'en', 'en', 'en', 'es', 'en', 'en', 'en', 'en', 'en', 'en', 'en', 'de', 'en', 'en', 'nl', 'en', 'en', 'en', 'en', 'en', 'en', 'en', 'en', 'en', 'en', 'en', 'en', 'en', 'es', 'en', 'en', 'es', 'en', 'en', 'tr', 'en', 'en', 'es', 'en', 'en', 'en', 'en', 'cs', 'en', 'en', 'en', 'en', 'en', 'en', 'en', 'de', 'en', 'en', 'en', 'sk', 'en', 'en', 'es', 'en', 'en', 'en', 'en', 'en', 'en', 'en', 'en', 'en', 'en', 'en', 'en', 'en', 'en', 'en', 'en', 'en', 'en', 'tr', 'en', 'en', 'en', 'en', 'en', 'en', 'en', 'en', 'tr', 'de', 'it', 'fr', 'hr', 'en', 'en', 'en', 'en', 'en', 'en', 'en', 'en', 'de', 'en', 'en', 'en', 'en', 'en', 'en', 'en', 'en', 'en', 'en', 'en', 'en', 'en', 'en', 'es', 'en', 'en', 'nl', 'en', 'en', 'en', 'en', 'en', 'en', 'en', 'en', 'en', 'en', 'en', 'en', 'en', 'en', 'en', 'en', 'en', 'en', 'en', 'es', 'en', 'en', 'en', 'en', 'en', 'pl', 'en', 'en', 'en', 'en', 'it', 'en', 'en', 'en', 'en', 'es', 'en', 'en', 'en', 'en', 'en', 'es', 'en', 'en', 'en', 'en', 'en', 'en', 'en', 'en', 'en', 'en', 'es', 'en', 'tr', 'en', 'en', 'en', 'en', 'ru', 'en', 'en', 'fr', 'en', 'nl', 'en', 'en', 'pl', 'es', 'et', 'fr', 'bg', 'en', 'en', 'en', 'tr', 'de', 'en', 'en', 'en', 'en', 'en', 'en', 'en', 'en', 'nl', 'pt', 'es', 'en', 'cs', 'en', 'en', 'en', 'en', 'en', 'en', 'en', 'en', 'en', 'en', 'ro', 'en', 'en', 'en', 'en', 'en', 'de', 'en', 'ro', 'en', 'ro', 'en', 'en', 'de', 'en', 'en', 'en', 'en', 'de', 'en', 'en', 'en', 'pt', 'es', 'en', 'en', 'bg', 'en', 'en', 'en', 'it', 'en', 'ar', 'en', 'en', 'en', 'en', 'en', 'en', 'de', 'en', 'en', 'en', 'pt', 'en', 'en', 'en', 'en', 'en', 'en', 'en', 'en', 'en', 'en', 'en', 'en', 'en', 'en', 'en', 'no', 'en', 'en', 'en', 'en', 'en', 'en', 'en', 'en', 'en', 'pt', 'en', 'en', 'en', 'en', 'en', 'en', 'fa', 'en', 'en', 'en', 'en', 'en', 'en', 'en', 'en', 'fr', 'it', 'de', 'es', 'en', 'en', 'en', 'en', 'en', 'es', 'en', 'en', 'en', 'en', 'en', 'fr', 'en', 'en', 'en', 'nl', 'en', 'en', 'en', 'en', 'en', 'en', 'en', 'en', 'es', 'tr', 'es', 'es', 'en', 'en', 'en', 'en', 'en', 'en', 'en', 'en', 'en', 'en', 'en', 'en', 'en', 'en', 'en', 'en', 'en', 'en', 'en', 'en', 'en', 'en', 'en', 'en', 'en', 'pt', 'en', 'en', 'it', 'en', 'en', 'en', 'tr', 'en', 'en', 'en', 'es', 'en', 'nl', 'de', 'en', 'de', 'en', 'en', 'en', 'en', 'en', 'en', 'en', 'en', 'en', 'es', 'en', 'en', 'en', 'en', 'en', 'hu', 'en', 'en', 'en', 'cs', 'en', 'en', 'es', 'en', 'en', 'de', 'en', 'en', 'ar', 'en', 'hr', 'hu', 'en', 'de', 'ar', 'cs', 'en', 'en', 'en', 'fr', 'en', 'en', 'en', 'en', 'en', 'es', 'en', 'en', 'en', 'en', 'en', 'en', 'en', 'en', 'fr', 'en', 'en', 'nl', 'en', 'en', 'en', 'en', 'en', 'fa', 'es', 'tr', 'fr', 'en', 'en', 'en', 'en', 'en', 'en', 'en', 'en', 'en', 'en', 'en', 'en', 'en', 'en', 'en', 'en', 'en', 'en', 'en', 'en', 'en', 'en', 'en', 'en', 'en', 'pt', 'es', 'en', 'en', 'en', 'en', 'en', 'en', 'en', 'en', 'en', 'pl', 'en', 'en', 'en', 'en', 'en', 'en', 'en', 'en', 'en', 'en', 'de', 'en', 'en', 'en', 'es', 'pt', 'en', 'en', 'en', 'en', 'en', 'en', 'de', 'en', 'en', 'en', 'en', 'en', 'en', 'en', 'en', 'en', 'en', 'en', 'en', 'en', 'es', 'it', 'en', 'en', 'tr', 'en', 'en', 'en', 'en', 'en', 'en', 'en', 'en', 'en', 'en', 'en', 'en', 'en', 'en', 'en', 'en', 'en', 'en', 'no', 'en', 'it', 'en', 'en', 'fr', 'en', 'da', 'pt', 'en', 'en', 'en', 'en', 'en', 'en', 'en', 'en', 'en', 'fr', 'en', 'en', 'it', 'en', 'en', 'en', 'en', 'en', 'en', 'en', 'es', 'en', 'en', 'en', 'en', 'en', 'en', 'en', 'en', 'en', 'en', 'es', 'en', 'en', 'no', 'en', 'en', 'en', 'en', 'en', 'en', 'en', 'en', 'en', 'en', 'en', 'pt', 'en', 'en', 'en', 'en', 'en', 'en', 'en', 'en', 'en', 'en', 'en', 'en', 'en', 'en', 'en', 'en', 'en', 'en', 'en', 'en', 'en', 'en', 'en', 'en', 'en', 'en', 'en', 'en', 'en', 'en', 'en', 'en', 'en', 'en', 'en', 'en', 'el', 'es', 'es', 'en', 'en', 'en', 'en', 'it', 'en', 'en', 'en', 'en', 'en', 'en', 'en', 'en', 'en', 'ru', 'en', 'en', 'en', 'en', 'en', 'en', 'en', 'en', 'en', 'en', 'en', 'en', 'en', 'en', 'en', 'en', 'en', 'en', 'en', 'pt', 'en', 'en', 'en', 'en', 'en', 'en', 'en', 'en', 'en', 'en', 'en', 'en', 'de', 'en', 'en', 'en', 'en', 'en', 'en', 'en', 'tr', 'nl', 'en', 'en', 'en', 'en', 'en', 'en', 'en', 'en', 'pl', 'en', 'en', 'en', 'en', 'en', 'en', 'en', 'en', 'en', 'en', 'en', 'en', 'en', 'en', 'en', 'en', 'en', 'en', 'en', 'en', 'en', 'en', 'en', 'en', 'es', 'en', 'en', 'en', 'en', 'en', 'en', 'it', 'en', 'en', 'en', 'en', 'en', 'en', 'en', 'en', 'sv', 'en', 'en', 'en', 'en', 'en', 'en', 'en', 'en', 'en', 'fa', 'en', 'en', 'tr', 'fr', 'en', 'en', 'en', 'en', 'en', 'en', 'pt', 'en', 'en', 'en', 'en', 'en', 'en', 'en', 'en', 'en', 'en', 'en', 'de', 'en', 'en', 'en', 'en', 'en', 'es', 'en', 'en', 'de', 'en', 'en', 'en', 'en', 'en', 'fr', 'en', 'en', 'en', 'en', 'en', 'en', 'en', 'en', 'en', 'en', 'en', 'en', 'de', 'en', 'en', 'en', 'en', 'en', 'en', 'en', 'en', 'en', 'en', 'hr', 'en', 'en', 'en', 'en', 'en', 'en', 'en', 'en', 'fr', 'en', 'en', 'en', 'en', 'en', 'en', 'en', 'en', 'en', 'en', 'en', 'en', 'en', 'en', 'en', 'en', 'en', 'es', 'en', 'en', 'fr', 'en', 'en', 'cs', 'en', 'en', 'en', 'en', 'en', 'en', 'fr', 'en', 'en', 'de', 'en', 'en', 'es', 'en', 'en', 'en', 'en', 'en', 'en', 'en', 'en', 'fr', 'en', 'en', 'en', 'de', 'en', 'en', 'en', 'en', 'en', 'en', 'en', 'en', 'en', 'en', 'en', 'en', 'en', 'en', 'en', 'en', 'en', 'en', 'en', 'en', 'en', 'en', 'fr', 'en', 'en', 'en', 'en', 'en', 'en', 'en', 'en', 'de', 'en', 'en', 'de', 'en', 'en', 'nl', 'en', 'en', 'en', 'tr', 'en', 'en', 'en', 'en', 'en', 'en', 'en', 'en', 'en', 'en', 'en', 'en', 'en', 'en', 'ru', 'en', 'en', 'en', 'en', 'en', 'en', 'en', 'en', 'en', 'en', 'en', 'en', 'fr', 'en', 'en', 'en', 'en', 'en', 'en', 'en', 'pt', 'en', 'fi', 'it', 'fa', 'en', 'en', 'en', 'en', 'ro', 'it', 'en', 'en', 'ar', 'en', 'en', 'en', 'en', 'en', 'en', 'en', 'en', 'en', 'en', 'en', 'en', 'en', 'en', 'en', 'fr', 'en', 'en', 'en', 'en', 'en', 'en', 'en', 'en', 'en', 'en', 'en', 'en', 'en', 'en', 'en', 'en', 'en', 'en', 'es', 'en', 'en', 'en', 'en', 'en', 'da', 'de', 'fr', 'en', 'en', 'en', 'en', 'en', 'en', 'en', 'fa', 'es', 'en', 'en', 'en', 'en', 'en', 'fa', 'en', 'en', 'en', 'en', 'en', 'en', 'en', 'en', 'en', 'es', 'en', 'en', 'en', 'en', 'en', 'en', 'fi', 'en', 'en', 'en', 'en', 'en', 'en', 'en', 'en', 'hr', 'tr', 'en', 'en', 'ar', 'pt', 'en', 'en', 'en', 'en', 'tr', 'en', 'en', 'en', 'en', 'en', 'en', 'en', 'en', 'en', 'en', 'en', 'es', 'en', 'en', 'en', 'en', 'en', 'en', 'en', 'en', 'en', 'en', 'es', 'es', 'en', 'en', 'en', 'en', 'en', 'en', 'en', 'tr', 'it', 'en', 'en', 'en', 'en', 'en', 'en', 'en', 'en', 'en', 'en', 'en', 'tr', 'en', 'en', 'en', 'en', 'en', 'de', 'en', 'en', 'en', 'en', 'en', 'en', 'en', 'en', 'en', 'en', 'en', 'en', 'en', 'en', 'en', 'fr', 'en', 'en', 'en', 'en', 'en', 'en', 'en', 'en', 'en', 'en', 'en', 'en', 'en', 'en', 'en', 'en', 'en', 'en', 'en', 'en', 'fr', 'en', 'en', 'en', 'es', 'en', 'en', 'en', 'en', 'en', 'en', 'pt', 'en', 'en', 'pl', 'tr', 'es', 'pl', 'ro', 'it', 'de', 'en', 'de', 'en', 'en', 'en', 'en', 'en', 'en', 'en', 'en', 'en', 'en', 'en', 'en', 'en', 'en', 'en', 'en', 'en', 'en', 'en', 'en', 'en', 'en', 'en', 'en', 'en', 'en', 'en', 'en', 'en', 'en', 'en', 'en', 'en', 'en', 'en', 'en', 'en', 'en', 'en', 'en', 'en', 'en', 'en', 'en', 'en', 'en', 'es', 'en', 'es', 'en', 'en', 'bg', 'en', 'en', 'en', 'tr', 'et', 'it', 'fi', 'en', 'en', 'en', 'nl', 'en', 'en', 'en', 'en', 'en', 'en', 'en', 'en', 'en', 'en', 'en', 'en', 'de', 'en', 'en', 'en', 'en', 'en', 'en', 'en', 'en', 'en', 'en', 'en', 'en', 'en', 'en', 'en', 'en', 'en', 'en', 'en', 'en', 'en', 'en', 'en', 'en', 'en', 'en', 'fr', 'en', 'en', 'en', 'en', 'de', 'en', 'en', 'en', 'en', 'en', 'en', 'it', 'en', 'en', 'en', 'en', 'lv', 'en', 'en', 'en', 'en', 'en', 'en', 'en', 'en', 'en', 'en', 'en', 'en', 'en', 'en', 'en', 'en', 'en', 'en', 'en', 'en', 'en', 'en', 'en', 'en', 'en', 'en', 'en', 'pt', 'en', 'en', 'en', 'en', 'en', 'en', 'en', 'pt', 'en', 'fi', 'en', 'cs', 'de', 'nl', 'tr', 'en', 'tr', 'en', 'en', 'en', 'en', 'en', 'en', 'en', 'nl', 'en', 'nl', 'en', 'en', 'cs', 'en', 'en', 'en', 'de', 'en', 'en', 'en', 'en', 'en', 'en', 'en', 'en', 'en', 'en', 'en', 'en', 'en', 'en', 'en', 'en', 'es', 'en', 'en', 'en', 'en', 'en', 'en', 'en', 'en', 'en', 'en', 'en', 'en', 'de', 'en', 'en', 'en', 'ru', 'pt', 'en', 'et', 'en', 'en', 'ar', 'en', 'en', 'en', 'en', 'en', 'it', 'en', 'en', 'en', 'en', 'en', 'en', 'en', 'es', 'fr', 'en', 'en', 'en', 'en', 'en', 'en', 'es', 'en', 'es', 'en', 'en', 'en', 'en', 'en', 'en', 'en', 'en', 'en', 'en', 'en', 'en', 'en', 'en', 'en', 'en', 'en', 'en', 'en', 'en', 'en', 'en', 'en', 'en', 'en', 'en', 'en', 'en', 'en', 'en', 'es', 'en', 'en', 'en', 'es', 'en', 'en', 'en', 'nl', 'en', 'en', 'lv', 'en', 'en', 'en', 'en', 'en', 'en', 'en', 'en', 'en', 'en', 'pt', 'en', 'en', 'en', 'ar', 'en', 'en', 'en', 'en', 'en', 'en', 'el', 'en', 'en', 'nl', 'en', 'en', 'en', 'en', 'en', 'en', 'en', 'en', 'en', 'en', 'en', 'en', 'en', 'en', 'en', 'nl', 'sv', 'en', 'en', 'it', 'en', 'fr', 'tr', 'en', 'en', 'en', 'en', 'en', 'en', 'en', 'en', 'en', 'en', 'en', 'en', 'en', 'en', 'es', 'it', 'en', 'en', 'en', 'en', 'en', 'en', 'en', 'en', 'en', 'en', 'en', 'en', 'en', 'de', 'en', 'en', 'en', 'cs', 'fi', 'en', 'en', 'en', 'de', 'en', 'de', 'en', 'en', 'en', 'en', 'en', 'en', 'en', 'en', 'es', 'en', 'en', 'en', 'en', 'en', 'en', 'en', 'en', 'en', 'cs', 'fr', 'en', 'en', 'en', 'en', 'en', 'en', 'en', 'en', 'en', 'en', 'en', 'en', 'en', 'en', 'en', 'en', 'en', 'en', 'en', 'en', 'en', 'fr', 'en', 'en', 'en', 'en', 'en', 'en', 'en', 'en', 'en', 'en', 'en', 'en', 'en', 'en', 'en', 'en', 'en', 'en', 'en', 'de', 'en', 'en', 'en', 'en', 'pt', 'en', 'el', 'en', 'en', 'en', 'en', 'en', 'pt', 'en', 'it', 'en', 'en', 'en', 'en', 'en', 'en', 'en', 'en', 'de', 'en', 'en', 'en', 'en', 'en', 'en', 'en', 'en', 'en', 'es', 'en', 'de', 'en', 'en', 'en', 'en', 'en', 'en', 'en', 'en', 'en', 'en', 'en', 'en', 'en', 'en', 'en', 'en', 'en', 'en', 'bg', 'en', 'en', 'it', 'en', 'en', 'en', 'en', 'pt', 'en', 'en', 'en', 'pt', 'pl', 'en', 'en', 'en', 'en', 'en', 'en', 'en', 'en', 'en', 'en', 'en', 'en', 'en', 'en', 'en', 'en', 'en', 'en', 'en', 'it', 'en', 'en', 'en', 'en', 'cs', 'en', 'en', 'en', 'en', 'en', 'en', 'en', 'en', 'en', 'en', 'en', 'en', 'en', 'en', 'en', 'es', 'en', 'en', 'it', 'en', 'en', 'en', 'en', 'de', 'en', 'da', 'en', 'en', 'en', 'en', 'en', 'en', 'en', 'en', 'tr', 'en', 'en', 'en', 'en', 'en', 'en', 'en', 'en', 'en', 'en', 'cs', 'en', 'en', 'en', 'it', 'it', 'en', 'ar', 'tr', 'cs', 'en', 'en', 'en', 'en', 'en', 'en', 'en', 'en', 'en', 'en', 'en', 'en', 'en', 'en', 'en', 'en', 'en', 'en', 'en', 'en', 'en', 'en', 'en', 'en', 'en', 'de', 'it', 'en', 'en', 'en', 'es', 'en', 'en', 'en', 'en', 'en', 'en', 'en', 'en', 'en', 'tr', 'en', 'en', 'en', 'en', 'en', 'en', 'en', 'en', 'en', 'en', 'en', 'en', 'en', 'en', 'en', 'en', 'en', 'en', 'en', 'en', 'en', 'en', 'en', 'en', 'ar', 'en', 'en', 'en', 'en', 'en', 'en', 'en', 'en', 'en', 'en', 'en', 'en', 'en', 'en', 'en', 'en', 'en', 'en', 'en', 'en', 'en', 'en', 'en', 'en', 'en', 'en', 'en', 'en', 'en', 'en', 'en', 'en', 'en', 'en', 'en', 'en', 'en', 'en', 'it', 'en', 'en', 'en', 'en', 'en', 'en', 'en', 'en', 'en', 'pt', 'en', 'en', 'en', 'en', 'id', 'en', 'en', 'en', 'en', 'en', 'lt', 'en', 'sv', 'en', 'cs', 'es', 'en', 'en', 'pt', 'en', 'en', 'en', 'en', 'en', 'en', 'en', 'en', 'ro', 'en', 'en', 'de', 'en', 'en', 'en', 'en', 'en', 'en', 'en', 'en', 'en', 'en', 'en', 'da', 'en', 'en', 'en', 'en', 'en', 'tr', 'en', 'en', 'en', 'en', 'en', 'en', 'en', 'en', 'en', 'pl', 'en', 'en', 'en', 'en', 'en', 'en', 'en', 'en', 'en', 'en', 'sv', 'en', 'en', 'es', 'en', 'en', 'en', 'en', 'en', 'en', 'en', 'en', 'en', 'en', 'en', 'fa', 'en', 'en', 'en', 'en', 'pt', 'es', 'en', 'en', 'en', 'en', 'en', 'tr', 'en', 'en', 'en', 'pt', 'en', 'en', 'en', 'en', 'en', 'en', 'en', 'en', 'en', 'en', 'en', 'en', 'en', 'ar', 'en', 'en', 'en', 'en', 'en', 'en', 'en', 'en', 'en', 'en', 'en', 'en', 'en', 'en', 'en', 'en', 'en', 'en', 'en', 'en', 'en', 'it', 'en', 'en', 'en', 'en', 'en', 'en', 'en', 'en', 'en', 'en', 'en', 'en', 'cs', 'en', 'en', 'en', 'en', 'en', 'en', 'en', 'en', 'en', 'en', 'en', 'en', 'en', 'en', 'en', 'en', 'en', 'de', 'en', 'it', 'en', 'en', 'en', 'en', 'en', 'en', 'en', 'es', 'en', 'en', 'en', 'pt', 'en', 'it', 'en', 'de', 'en', 'en', 'en', 'en', 'en', 'en', 'en', 'en', 'en', 'en', 'en', 'en', 'en', 'en', 'en', 'en', 'en', 'en', 'en', 'en', 'es', 'en', 'en', 'en', 'ar', 'en', 'en', 'ar', 'en', 'en', 'en', 'en', 'en', 'en', 'en', 'en', 'en', 'en', 'en', 'en', 'en', 'es', 'en', 'en', 'en', 'en', 'ru', 'en', 'en', 'en', 'en', 'en', 'en', 'en', 'en', 'en', 'en', 'en', 'en', 'en', 'en', 'en', 'en', 'en', 'en', 'en', 'en', 'en', 'en', 'en', 'en', 'en', 'en', 'en', 'en', 'en', 'en', 'en', 'en', 'en', 'en', 'en', 'en', 'en', 'en', 'en', 'en', 'en', 'en', 'en', 'tr', 'en', 'en', 'en', 'en', 'ar', 'en', 'en', 'en', 'en', 'en', 'en', 'en', 'en', 'en', 'it', 'pl', 'en', 'en', 'en', 'en', 'en', 'en', 'en', 'es', 'en', 'en', 'cs', 'en', 'en', 'en', 'en', 'en', 'en', 'en', 'en', 'en', 'en', 'en', 'en', 'es', 'en', 'en', 'en', 'en', 'en', 'en', 'en', 'en', 'en', 'en', 'en', 'en', 'en', 'en', 'en', 'en', 'fr', 'en', 'pt', 'en', 'en', 'en', 'en', 'en', 'en', 'en', 'en', 'en', 'en', 'en', 'en', 'en', 'en', 'en', 'en', 'en', 'en', 'en', 'fr', 'en', 'en', 'en', 'en', 'cs', 'en', 'en', 'en', 'en', 'en', 'en', 'en', 'en', 'en', 'en', 'en', 'en', 'en', 'en', 'es', 'en', 'en', 'en', 'en', 'en', 'en', 'ar', 'fr', 'tr', 'en', 'en', 'pl', 'es', 'en', 'en', 'en', 'en', 'en', 'en', 'en', 'en', 'en', 'en', 'en', 'en', 'en', 'en', 'en', 'en', 'en', 'en', 'en', 'en', 'en', 'en', 'en', 'en', 'ru', 'en', 'en', 'en', 'en', 'en', 'en', 'en', 'en', 'en', 'en', 'en', 'en', 'en', 'en', 'en', 'en', 'en', 'en', 'en', 'en', 'tr', 'en', 'en', 'de', 'en', 'en', 'en', 'tr', 'en', 'en', 'en', 'en', 'en', 'en', 'pl', 'en', 'en', 'bg', 'en', 'en', 'en', 'en', 'en', 'en', 'en', 'en', 'en', 'en', 'en', 'en', 'en', 'en', 'en', 'en', 'en', 'en', 'en', 'en', 'en', 'en', 'en', 'en', 'en', 'en', 'en', 'en', 'en', 'en', 'hu', 'en', 'en', 'en', 'en', 'de', 'en', 'en', 'en', 'en', 'en', 'en', 'en', 'cs', 'en', 'es', 'en', 'en', 'en', 'en', 'en', 'en', 'pl', 'en', 'en', 'en', 'en', 'en', 'en', 'en', 'en', 'en', 'en', 'en', 'fr', 'de', 'en', 'tr', 'pt', 'en', 'en', 'es', 'en', 'pl', 'cs', 'en', 'en', 'en', 'en', 'en', 'en', 'en', 'en', 'da', 'en', 'en', 'en', 'en', 'en', 'en', 'fr', 'fr', 'en', 'es', 'en', 'en', 'en', 'en', 'pl', 'en', 'pl', 'en', 'pt', 'en', 'en', 'en', 'en', 'en', 'en', 'en', 'en', 'en', 'en', 'en', 'nl', 'en', 'en', 'en', 'en', 'en', 'en', 'en', 'en', 'en', 'pl', 'en', 'en', 'en', 'en', 'en', 'es', 'en', 'en', 'en', 'en', 'en', 'en', 'en', 'en', 'en', 'en', 'en', 'en', 'ro', 'en', 'en', 'en', 'en', 'en', 'en', 'en', 'en', 'en', 'en', 'en', 'fr', 'en', 'es', 'en', 'en', 'en', 'en', 'es', 'en', 'en', 'en', 'en', 'de', 'en', 'en', 'en', 'en', 'pt', 'en', 'es', 'nl', 'pt', 'en', 'it', 'en', 'en', 'en', 'en', 'en', 'en', 'en', 'en', 'en', 'en', 'en', 'en', 'en', 'en', 'en', 'tr', 'en', 'en', 'en', 'en', 'en', 'en', 'en', 'en', 'en', 'en', 'en', 'en', 'en', 'en', 'en', 'en', 'en', 'en', 'en', 'en', 'en', 'en', 'en', 'en', 'en', 'en', 'en', 'en', 'en', 'en', 'en', 'en', 'en', 'en', 'en', 'en', 'en', 'en', 'en', 'en', 'en', 'en', 'en', 'en', 'en', 'en', 'en', 'en', 'en', 'en', 'it', 'en', 'en', 'en', 'en', 'en', 'en', 'en', 'en', 'en', 'en', 'en', 'en', 'en', 'en', 'en', 'en', 'en', 'en', 'en', 'en', 'en', 'en', 'en', 'en', 'en', 'en', 'pl', 'en', 'nl', 'en', 'en', 'en', 'en', 'en', 'en', 'en', 'en', 'en', 'en', 'en', 'en', 'en', 'en', 'en', 'en', 'en', 'en', 'en', 'en', 'en', 'en', 'en', 'en', 'en', 'en', 'en', 'en', 'en', 'en', 'en', 'en', 'en', 'en', 'en', 'en', 'en', 'en', 'en', 'en', 'en', 'en', 'en', 'en', 'en', 'en', 'en', 'en', 'en', 'en', 'es', 'en', 'en', 'en', 'en', 'en', 'en', 'en', 'en', 'tr', 'en', 'en', 'de', 'en', 'en', 'en', 'en', 'en', 'en', 'en', 'en', 'en', 'en', 'en', 'en', 'en', 'en', 'en', 'en', 'en', 'es', 'it', 'en', 'en', 'en', 'en', 'nl', 'en', 'en', 'en', 'en', 'en', 'en', 'en', 'en', 'en', 'pt', 'en', 'en', 'en', 'cs', 'en', 'en', 'en', 'pt', 'en', 'en', 'en', 'en', 'en', 'en', 'en', 'en', 'en', 'en', 'en', 'en', 'en', 'en', 'en', 'en', 'en', 'en', 'en', 'en', 'en', 'en', 'en', 'en', 'en', 'en', 'en', 'en', 'en', 'en', 'en', 'en', 'en', 'en', 'en', 'en', 'en', 'en', 'en', 'ro', 'en', 'en', 'en', 'en', 'en', 'en', 'en', 'en', 'en', 'en', 'en', 'en', 'en', 'en', 'en', 'en', 'en', 'en', 'pt', 'en', 'en', 'en', 'es', 'pl', 'en', 'en', 'it', 'en', 'en', 'en', 'en', 'en', 'en', 'en', 'en', 'en', 'en', 'en', 'en', 'en', 'en', 'en', 'en', 'en', 'en', 'en', 'en', 'en', 'en', 'en', 'en', 'en', 'en', 'en', 'en', 'en', 'en', 'en', 'en', 'en', 'en', 'nl', 'en', 'en', 'en', 'en', 'fr', 'en', 'en', 'en', 'en', 'en', 'en', 'en', 'en', 'it', 'en', 'ar', 'en', 'en', 'en', 'es', 'en', 'en', 'en', 'en', 'en', 'it', 'en', 'en', 'en', 'en', 'es', 'en', 'en', 'en', 'en', 'en', 'en', 'en', 'en', 'en', 'en', 'en', 'en', 'en', 'en', 'en', 'en', 'en', 'en', 'en', 'no', 'en', 'en', 'en', 'en', 'en', 'en', 'en', 'en', 'en', 'en', 'en', 'en', 'en', 'en', 'en', 'en', 'en', 'en', 'en', 'en', 'en', 'en', 'en', 'en', 'en', 'en', 'en', 'es', 'en', 'en', 'en', 'en', 'en', 'en', 'en', 'en', 'en', 'en', 'en', 'en', 'en', 'en', 'en', 'en', 'en', 'en', 'en', 'de', 'en', 'en', 'en', 'en', 'en', 'en', 'en', 'en', 'en', 'de', 'en', 'en', 'en', 'en', 'en', 'en', 'en', 'en', 'en', 'en', 'en', 'en', 'tr', 'en', 'en', 'en', 'en', 'en', 'en', 'en', 'en', 'en', 'en', 'en', 'en', 'en', 'en', 'en', 'en', 'en', 'en', 'en', 'en', 'en', 'en', 'en', 'en', 'en', 'fi', 'en', 'en', 'en', 'en', 'en', 'en', 'en', 'en', 'de', 'en', 'en', 'en', 'ro', 'en', 'en', 'en', 'en', 'en', 'en', 'en', 'en', 'ar', 'en', 'en', 'ar', 'en', 'en', 'en', 'en', 'en', 'en', 'en', 'en', 'en', 'en', 'es', 'es', 'en', 'en', 'en', 'en', 'en', 'pt', 'en', 'en', 'en', 'en', 'nl', 'en', 'en', 'en', 'en', 'en', 'en', 'en', 'en', 'en', 'de', 'en', 'en', 'en', 'pl', 'en', 'en', 'en', 'en', 'en', 'en', 'en', 'en', 'en', 'en', 'en', 'en', 'en', 'en', 'en', 'en', 'en', 'en', 'en', 'en', 'en', 'en', 'en', 'en', 'en', 'en', 'en', 'en', 'en', 'en', 'en', 'en', 'en', 'en', 'en', 'en', 'en', 'en', 'en', 'en', 'en', 'en', 'en', 'en', 'es', 'en', 'de', 'en', 'en', 'en', 'pt', 'en', 'en', 'en', 'en', 'it', 'en', 'en', 'en', 'en', 'en', 'en', 'en', 'en', 'en', 'en', 'en', 'en', 'en', 'en', 'en', 'en', 'en', 'en', 'en', 'de', 'en', 'en', 'en', 'en', 'en', 'en', 'en', 'en', 'en', 'en', 'en', 'en', 'en', 'en', 'en', 'en', 'en', 'en', 'en', 'en', 'pt', 'en', 'tr', 'en', 'en', 'en', 'en', 'en', 'en', 'en', 'en', 'en', 'en', 'en', 'en', 'en', 'en', 'en', 'en', 'de', 'en', 'en', 'en', 'es', 'en', 'en', 'ro', 'en', 'en', 'en', 'en', 'en', 'en', 'en', 'en', 'en', 'en', 'en', 'en', 'en', 'en', 'en', 'en', 'en', 'nl', 'en', 'en', 'en', 'en', 'en', 'en', 'es', 'en', 'en', 'en', 'en', 'pt', 'en', 'en', 'en', 'en', 'en', 'en', 'en', 'en', 'en', 'en', 'en', 'en', 'en', 'en', 'ar', 'en', 'en', 'en', 'en', 'en', 'en', 'tr', 'da', 'en', 'en', 'en', 'en', 'en', 'en', 'en', 'en', 'en', 'it', 'en', 'en', 'en', 'it', 'en', 'en', 'en', 'en', 'en', 'en', 'en', 'en', 'en', 'en', 'en', 'en', 'en', 'en', 'en', 'en', 'en', 'en', 'en', 'en', 'en', 'en', 'en', 'en', 'en', 'en', 'en', 'en', 'en', 'en', 'en', 'en', 'fr', 'en', 'en', 'en', 'en', 'tr', 'en', 'en', 'en', 'en', 'en', 'en', 'en', 'en', 'en', 'en', 'en', 'en', 'en', 'en', 'en', 'en', 'en', 'en', 'en', 'en', 'en', 'en', 'sv', 'en', 'en', 'en', 'en', 'en', 'en', 'en', 'en', 'en', 'en', 'en', 'en', 'en', 'en', 'en', 'en', 'en', 'en', 'en', 'en', 'en', 'en', 'en', 'en', 'en', 'en', 'en', 'en', 'en', 'en', 'en', 'id', 'en', 'en', 'en', 'en', 'es', 'en', 'en', 'en', 'en', 'en', 'en', 'en', 'en', 'en', 'en', 'nl', 'en', 'en', 'en', 'en', 'en', 'en', 'en', 'en', 'en', 'en', 'it', 'en', 'en', 'en', 'es', 'en', 'en', 'en', 'en', 'en', 'en', 'en', 'en', 'en', 'en', 'en', 'en', 'en', 'en', 'en', 'en', 'en', 'en', 'en', 'en', 'en', 'en', 'en', 'en', 'en', 'en', 'en', 'en', 'en', 'en', 'en', 'en', 'en', 'en', 'en', 'en', 'en', 'en', 'en', 'en', 'en', 'en', 'en', 'en', 'en', 'en', 'en', 'en', 'en', 'tr', 'en', 'en', 'en', 'en', 'en', 'en', 'en', 'en', 'en', 'en', 'ro', 'en', 'de', 'en', 'en', 'en', 'en', 'en', 'en', 'en', 'en', 'en', 'en', 'pl', 'en', 'en', 'en', 'en', 'en', 'en', 'en', 'en', 'en', 'ko', 'en', 'en', 'en', 'en', 'es', 'en', 'en', 'en', 'en', 'en', 'en', 'en', 'en', 'pt', 'en', 'en', 'it', 'en', 'en', 'en', 'en', 'en', 'en', 'en', 'en', 'en', 'it', 'pt', 'en', 'en', 'en', 'fr', 'en', 'en', 'en', 'en', 'en', 'en', 'en', 'en', 'en', 'en', 'en', 'en', 'en', 'en', 'en', 'en', 'en', 'en', 'en', 'en', 'en', 'en', 'en', 'en', 'en', 'en', 'en', 'en', 'en', 'en', 'en', 'en', 'en', 'en', 'en', 'de', 'en', 'en', 'en', 'en', 'en', 'en', 'en', 'pt', 'en', 'de', 'en', 'tr', 'en', 'bg', 'en', 'en', 'en', 'en', 'en', 'en', 'en', 'en', 'en', 'en', 'en', 'en', 'en', 'en', 'en', 'en', 'en', 'en', 'en', 'en', 'en', 'en', 'en', 'en', 'en', 'en', 'en', 'es', 'en', 'en', 'en', 'en', 'en', 'en', 'en', 'en', 'en', 'en', 'en', 'en', 'en', 'en', 'en', 'en', 'en', 'en', 'en', 'en', 'en', 'en', 'en', 'en', 'en', 'en', 'en', 'en', 'en', 'en', 'en', 'en', 'en', 'en', 'en', 'en', 'en', 'en', 'en', 'en', 'en', 'en', 'en', 'en', 'en', 'en', 'en', 'pt', 'en', 'en', 'en', 'en', 'en', 'en', 'en', 'ja', 'en', 'en', 'en', 'en', 'en', 'en', 'en', 'id', 'en', 'en', 'en', 'en', 'en', 'en', 'en', 'en', 'en', 'en', 'en', 'en', 'en', 'en', 'en', 'fi', 'en', 'en', 'en', 'en', 'en', 'en', 'en', 'en', 'en', 'en', 'en', 'en', 'en', 'en', 'en', 'en', 'en', 'en', 'en', 'en', 'en', 'en', 'en', 'en', 'en', 'es', 'en', 'en', 'fr', 'en', 'en', 'en', 'en', 'en', 'en', 'en', 'en', 'en', 'en', 'en', 'en', 'en', 'en', 'en', 'en', 'en', 'en', 'ar', 'fr', 'en', 'en', 'en', 'en', 'en', 'nl', 'en', 'en', 'en', 'en', 'en', 'en', 'en', 'en', 'en', 'fr', 'en', 'en', 'en', 'en', 'en', 'en', 'en', 'en', 'en', 'en', 'fi', 'en', 'en', 'en', 'en', 'de', 'en', 'en', 'en', 'en', 'tr', 'en', 'en', 'en', 'en', 'en', 'en', 'en', 'en', 'en', 'en', 'en', 'en', 'en', 'en', 'en', 'en', 'en', 'en', 'en', 'en', 'en', 'en', 'en', 'en', 'en', 'en', 'en', 'en', 'en', 'en', 'en', 'es', 'en', 'en', 'en', 'en', 'en', 'en', 'en', 'en', 'en', 'en', 'en', 'en', 'en', 'en', 'en', 'en', 'en', 'en', 'en', 'en', 'en', 'en', 'en', 'en', 'en', 'en', 'en', 'en', 'en', 'en', 'it', 'en', 'en', 'es', 'pt', 'de', 'en', 'en', 'en', 'es', 'en', 'en', 'en', 'en', 'en', 'en', 'en', 'en', 'lv', 'pt', 'en', 'en', 'en', 'en', 'en', 'en', 'en', 'en', 'it', 'en', 'en', 'en', 'en', 'en', 'en', 'fr', 'en', 'en', 'en', 'tr', 'en', 'en', 'en', 'en', 'en', 'de', 'en', 'en', 'en', 'en', 'en', 'en', 'en', 'en', 'en', 'en', 'en', 'en', 'en', 'en', 'en', 'en', 'en', 'el', 'en', 'en', 'en', 'en', 'en', 'en', 'en', 'en', 'en', 'en', 'en', 'ar', 'en', 'en', 'it', 'en', 'en', 'en', 'en', 'en', 'en', 'en', 'en', 'en', 'en', 'en', 'en', 'en', 'en', 'en', 'en', 'en', 'en', 'en', 'en', 'en', 'en', 'en', 'en', 'en', 'en', 'en', 'en', 'en', 'en', 'en', 'en', 'en', 'en', 'en', 'en', 'en', 'en', 'en', 'en', 'en', 'en', 'en', 'en', 'en', 'en', 'en', 'en', 'en', 'en', 'en', 'en', 'en', 'en', 'en', 'en', 'et', 'en', 'en', 'en', 'en', 'en', 'en', 'en', 'en', 'en', 'en', 'en', 'en', 'en', 'en', 'en', 'en', 'en', 'en', 'en', 'en', 'en', 'en', 'en', 'en', 'en', 'en', 'en', 'en', 'en', 'en', 'en', 'en', 'en', 'en', 'en', 'en', 'en', 'en', 'en', 'en', 'de', 'en', 'en', 'en', 'en', 'fi', 'en', 'en', 'en', 'en', 'en', 'en', 'en', 'sv', 'en', 'en', 'en', 'en', 'en', 'pt', 'en', 'en', 'en', 'en', 'en', 'en', 'en', 'en', 'en', 'en', 'en', 'it', 'tr', 'en', 'en', 'en', 'en', 'en', 'en', 'en', 'en', 'en', 'en', 'en', 'en', 'en', 'en', 'de', 'en', 'fr', 'en', 'sv', 'en', 'en', 'en', 'en', 'en', 'en', 'en', 'en', 'en', 'en', 'en', 'en', 'en', 'en', 'en', 'en', 'en', 'en', 'en', 'en', 'en', 'en', 'en', 'en', 'en', 'en', 'en', 'en', 'en', 'en', 'en', 'en', 'en', 'en', 'en', 'en', 'en', 'en', 'en', 'en', 'en', 'en', 'en', 'en', 'en', 'en', 'en', 'en', 'en', 'en', 'en', 'en', 'en', 'en', 'en', 'en', 'en', 'en', 'en', 'en', 'en', 'hu', 'en', 'en', 'en', 'en', 'en', 'en', 'en', 'en', 'en', 'ar', 'tr', 'en', 'en', 'en', 'en', 'en', 'en', 'en', 'en', 'en', 'pt', 'en', 'bg', 'en', 'en', 'en', 'en', 'en', 'en', 'en', 'en', 'fi', 'en', 'en', 'en', 'en', 'en', 'en', 'en', 'en', 'en', 'en', 'en', 'en', 'en', 'en', 'en', 'en', 'en', 'en', 'id', 'ar', 'en', 'en', 'ar', 'en', 'es', 'en', 'en', 'en', 'en', 'en', 'en', 'en', 'en', 'en', 'it', 'en', 'en', 'en', 'en', 'en', 'en', 'en', 'en', 'en', 'fr', 'pl', 'en', 'et', 'en', 'en', 'en', 'en', 'en', 'en', 'en', 'en', 'en', 'en', 'en', 'en', 'en', 'en', 'en', 'en', 'en', 'es', 'it', 'en', 'en', 'en', 'en', 'en', 'en', 'en', 'en', 'en', 'en', 'en', 'en', 'en', 'en', 'en', 'en', 'en', 'fr', 'fr', 'de', 'en', 'en', 'en', 'en', 'en', 'en', 'en', 'en', 'en', 'en', 'sl', 'en', 'en', 'en', 'en', 'en', 'en', 'en', 'en', 'en', 'en', 'en', 'en', 'en', 'en', 'en', 'en', 'en', 'en', 'en', 'en', 'en', 'en', 'en', 'en', 'en', 'en', 'en', 'en', 'en', 'en', 'en', 'en', 'en', 'en', 'en', 'en', 'en', 'en', 'en', 'en', 'en', 'en', 'es', 'en', 'en', 'en', 'en', 'en', 'es', 'en', 'en', 'en', 'en', 'cs', 'en', 'en', 'en', 'en', 'en', 'tr', 'en', 'en', 'en', 'en', 'en', 'en', 'en', 'en', 'en', 'en', 'en', 'en', 'en', 'en', 'fr', 'en', 'en', 'en', 'en', 'en', 'en', 'en', 'en', 'en', 'en', 'en', 'en', 'en', 'en', 'en', 'en', 'en', 'en', 'en', 'en', 'en', 'en', 'en', 'en', 'en', 'en', 'en', 'en', 'en', 'en', 'en', 'en', 'en', 'en', 'en', 'en', 'en', 'en', 'en', 'en', 'en', 'en', 'en', 'en', 'en', 'en', 'en', 'en', 'en', 'en', 'en', 'en', 'en', 'en', 'en', 'es', 'en', 'en', 'en', 'en', 'en', 'en', 'it', 'en', 'en', 'en', 'en', 'en', 'en', 'en', 'en', 'en', 'en', 'en', 'en', 'en', 'de', 'en', 'en', 'en', 'en', 'en', 'en', 'en', 'en', 'en', 'en', 'en', 'en', 'en', 'en', 'en', 'en', 'en', 'en', 'it', 'en', 'en', 'en', 'en', 'en', 'en', 'en', 'en', 'en', 'en', 'en', 'en', 'en', 'en', 'en', 'en', 'en', 'de', 'en', 'en', 'en', 'en', 'en', 'en', 'en', 'en', 'en', 'en', 'en', 'en', 'en', 'en', 'en', 'nl', 'en', 'en', 'en', 'en', 'en', 'es', 'es', 'en', 'en', 'en', 'en', 'en', 'en', 'en', 'en', 'en', 'no', 'en', 'en', 'en', 'en', 'en', 'en', 'en', 'en', 'en', 'it', 'no', 'en', 'en', 'en', 'en', 'en', 'en', 'en', 'en', 'en', 'en', 'en', 'en', 'en', 'en', 'en', 'vi', 'en', 'en', 'en', 'en', 'en', 'en', 'en', 'en', 'en', 'en', 'en', 'en', 'en', 'en', 'en', 'en', 'en', 'en', 'en', 'en', 'en', 'en', 'en', 'en', 'en', 'en', 'en', 'en', 'en', 'en', 'en', 'en', 'en', 'en', 'en', 'en', 'en', 'en', 'en', 'en', 'en', 'en', 'tr', 'en', 'en', 'en', 'en', 'en', 'en', 'en', 'tr', 'en', 'es', 'en', 'en', 'en', 'en', 'en', 'en', 'en', 'fa', 'en', 'en', 'en', 'en', 'en', 'en', 'en', 'en', 'en', 'en', 'en', 'en', 'en', 'en', 'en', 'de', 'en', 'en', 'en', 'en', 'en', 'en', 'en', 'en', 'en', 'en', 'en', 'en', 'en', 'en', 'en', 'en', 'en', 'en', 'en', 'en', 'en', 'en', 'en', 'en', 'en', 'en', 'en', 'en', 'en', 'en', 'en', 'en', 'en', 'en', 'en', 'en', 'ja', 'tr', 'en', 'en', 'en', 'en', 'en', 'en', 'en', 'en', 'en', 'sl', 'en', 'en', 'en', 'en', 'en', 'en', 'en', 'en', 'en', 'en', 'en', 'en', 'en', 'en', 'en', 'en', 'de', 'en', 'en', 'en', 'en', 'en', 'en', 'en', 'en', 'ro', 'tr', 'en', 'en', 'en', 'en', 'en', 'pt', 'ro', 'en', 'en', 'en', 'en', 'en', 'en', 'en', 'en', 'en', 'en', 'pl', 'en', 'en', 'fi', 'en', 'pt', 'pt', 'es', 'en', 'en', 'en', 'en', 'en', 'en', 'en', 'en', 'en', 'en', 'en', 'en', 'en', 'en', 'en', 'en', 'en', 'en', 'en', 'en', 'en', 'en', 'en', 'en', 'en', 'en', 'en', 'en', 'es', 'en', 'en', 'en', 'it', 'en', 'en', 'en', 'en', 'en', 'en', 'en', 'en', 'en', 'en', 'en', 'en', 'en', 'en', 'ro', 'de', 'en', 'en', 'en', 'en', 'en', 'en', 'en', 'en', 'en', 'en', 'en', 'en', 'en', 'ar', 'en', 'ar', 'en', 'en', 'en', 'nl', 'en', 'en', 'en', 'en', 'en', 'en', 'en', 'en', 'en', 'en', 'en', 'en', 'en', 'en', 'en', 'en', 'en', 'en', 'ar', 'en', 'en', 'en', 'en', 'en', 'en', 'en', 'en', 'en', 'en', 'en', 'en', 'en', 'es', 'en', 'en', 'en', 'en', 'en', 'en', 'en', 'en', 'en', 'en', 'en', 'en', 'en', 'en', 'en', 'en', 'en', 'en', 'en', 'en', 'en', 'en', 'en', 'en', 'en', 'en', 'en', 'en', 'en', 'en', 'en', 'en', 'en', 'en', 'en', 'en', 'en', 'en', 'en', 'en', 'en', 'en', 'en', 'en', 'en', 'en', 'en', 'en', 'en', 'en', 'en', 'en', 'en', 'en', 'en', 'en', 'en', 'en', 'en', 'en', 'en', 'en', 'en', 'en', 'en', 'nl', 'en', 'en', 'en', 'en', 'en', 'es', 'en', 'en', 'en', 'en', 'en', 'en', 'en', 'en', 'en', 'en', 'en', 'nl', 'en', 'en', 'en', 'en', 'en', 'en', 'en', 'en', 'en', 'en', 'en', 'en', 'pt', 'en', 'en', 'en', 'en', 'en', 'en', 'en', 'en', 'en', 'en', 'en', 'es', 'en', 'en', 'en', 'en', 'en', 'en', 'en', 'en', 'en', 'en', 'en', 'en', 'en', 'en', 'en', 'en', 'sv', 'en', 'en', 'en', 'en', 'en', 'en', 'en', 'en', 'en', 'en', 'en', 'en', 'en', 'en', 'en', 'en', 'id', 'en', 'en', 'en', 'en', 'en', 'pl', 'en', 'en', 'en', 'en', 'en', 'en', 'en', 'en', 'en', 'en', 'en', 'en', 'en', 'en', 'en', 'en', 'en', 'pl', 'en', 'en', 'en', 'en', 'es', 'en', 'en', 'de', 'en', 'en', 'en', 'en', 'en', 'en', 'en', 'en', 'en', 'en', 'en', 'en', 'en', 'fr', 'en', 'en', 'en', 'en', 'en', 'en', 'en', 'en', 'en', 'en', 'en', 'en', 'en', 'en', 'en', 'pt', 'en', 'en', 'en', 'en', 'en', 'en', 'de', 'tr', 'en', 'en', 'en', 'en', 'fa', 'en', 'en', 'en', 'pt', 'it', 'en', 'es', 'en', 'en', 'en', 'en', 'en', 'en', 'pt', 'en', 'en', 'en', 'en', 'en', 'en', 'en', 'en', 'en', 'en', 'en', 'en', 'en', 'en', 'en', 'en', 'en', 'en', 'en', 'en', 'en', 'en', 'en', 'en', 'en', 'en', 'en', 'en', 'en', 'en', 'en', 'en', 'en', 'en', 'en', 'en', 'en', 'en', 'en', 'en', 'en', 'en', 'en', 'en', 'en', 'en', 'pt', 'tr', 'en', 'en', 'nl', 'ca', 'en', 'en', 'en', 'fr', 'en', 'en', 'en', 'en', 'en', 'en', 'en', 'en', 'en', 'en', 'en', 'it', 'en', 'en', 'en', 'en', 'en', 'en', 'en', 'en', 'en', 'en', 'en', 'en', 'en', 'en', 'es', 'en', 'en', 'en', 'en', 'en', 'en', 'en', 'en', 'es', 'en', 'en', 'en', 'en', 'en', 'en', 'en', 'en', 'en', 'en', 'en', 'en', 'en', 'en', 'en', 'en', 'en', 'en', 'en', 'en', 'en', 'en', 'en', 'en', 'en', 'ar', 'en', 'en', 'en', 'en', 'en', 'en', 'en', 'es', 'en', 'en', 'en', 'en', 'en', 'en', 'en', 'en', 'en', 'en', 'en', 'en', 'en', 'en', 'en', 'en', 'en', 'en', 'en', 'en', 'en', 'en', 'en', 'en', 'en', 'en', 'en', 'en', 'en', 'en', 'en', 'en', 'cs', 'en', 'en', 'en', 'en', 'en', 'en', 'en', 'en', 'en', 'en', 'en', 'en', 'en', 'en', 'en', 'en', 'en', 'en', 'en', 'en', 'en', 'en', 'en', 'en', 'en', 'en', 'en', 'en', 'en', 'en', 'en']\n"
     ]
    }
   ],
   "source": [
    "try:\n",
    "    l = []\n",
    "    for i in range(295,6964):\n",
    "        f = detect(books['book_desc'][i])\n",
    "        l.append(f)\n",
    "except:\n",
    "    print(i)\n",
    "else:\n",
    "    print(l)"
   ]
  },
  {
   "cell_type": "code",
   "execution_count": 253,
   "id": "62419d63",
   "metadata": {},
   "outputs": [
    {
     "data": {
      "text/plain": [
       "(6964, 5)"
      ]
     },
     "execution_count": 253,
     "metadata": {},
     "output_type": "execute_result"
    }
   ],
   "source": [
    "books.shape"
   ]
  },
  {
   "cell_type": "code",
   "execution_count": null,
   "id": "686a0cc8",
   "metadata": {},
   "outputs": [],
   "source": []
  },
  {
   "cell_type": "code",
   "execution_count": null,
   "id": "748a0c21",
   "metadata": {},
   "outputs": [],
   "source": []
  },
  {
   "cell_type": "code",
   "execution_count": 254,
   "id": "bfebd2f5",
   "metadata": {
    "scrolled": true
   },
   "outputs": [],
   "source": [
    "lang_lis = books['book_desc'].apply(detect)"
   ]
  },
  {
   "cell_type": "code",
   "execution_count": 255,
   "id": "0311c88f",
   "metadata": {},
   "outputs": [],
   "source": [
    "books['lang_lis'] = lang_lis"
   ]
  },
  {
   "cell_type": "code",
   "execution_count": 256,
   "id": "abeab6ca",
   "metadata": {},
   "outputs": [
    {
     "data": {
      "text/plain": [
       "en    5619\n",
       "es     236\n",
       "de     141\n",
       "it     132\n",
       "tr     130\n",
       "pt     125\n",
       "fr     103\n",
       "nl      63\n",
       "ar      56\n",
       "pl      50\n",
       "cs      46\n",
       "ro      43\n",
       "fa      26\n",
       "fi      23\n",
       "sv      23\n",
       "bg      21\n",
       "hr      15\n",
       "ru      15\n",
       "el      14\n",
       "et      13\n",
       "id      12\n",
       "hu      11\n",
       "no       9\n",
       "da       8\n",
       "lt       6\n",
       "sl       5\n",
       "vi       4\n",
       "sk       3\n",
       "ca       3\n",
       "lv       3\n",
       "ko       2\n",
       "ja       2\n",
       "uk       1\n",
       "sq       1\n",
       "Name: lang_lis, dtype: int64"
      ]
     },
     "execution_count": 256,
     "metadata": {},
     "output_type": "execute_result"
    }
   ],
   "source": [
    "books['lang_lis'].value_counts()"
   ]
  },
  {
   "cell_type": "code",
   "execution_count": 257,
   "id": "59857286",
   "metadata": {
    "scrolled": true
   },
   "outputs": [
    {
     "data": {
      "text/html": [
       "<div>\n",
       "<style scoped>\n",
       "    .dataframe tbody tr th:only-of-type {\n",
       "        vertical-align: middle;\n",
       "    }\n",
       "\n",
       "    .dataframe tbody tr th {\n",
       "        vertical-align: top;\n",
       "    }\n",
       "\n",
       "    .dataframe thead th {\n",
       "        text-align: right;\n",
       "    }\n",
       "</style>\n",
       "<table border=\"1\" class=\"dataframe\">\n",
       "  <thead>\n",
       "    <tr style=\"text-align: right;\">\n",
       "      <th></th>\n",
       "      <th>book_title</th>\n",
       "      <th>book_authors</th>\n",
       "      <th>book_desc</th>\n",
       "      <th>genres</th>\n",
       "      <th>image_url</th>\n",
       "      <th>lang_lis</th>\n",
       "    </tr>\n",
       "  </thead>\n",
       "  <tbody>\n",
       "    <tr>\n",
       "      <th>0</th>\n",
       "      <td>Harry Potter and the Sorcerer's Stone</td>\n",
       "      <td>[marygrandpré, j.k.rowling]</td>\n",
       "      <td>Harry Potter's life is miserable. His parents ...</td>\n",
       "      <td>[youngadult, fiction, fantasy]</td>\n",
       "      <td>https://images.gr-assets.com/books/1474154022l...</td>\n",
       "      <td>en</td>\n",
       "    </tr>\n",
       "    <tr>\n",
       "      <th>1</th>\n",
       "      <td>Los juegos del hambre</td>\n",
       "      <td>[suzannecollins]</td>\n",
       "      <td>\\r\\r\\nGanar significa fama y fortuna. Perder s...</td>\n",
       "      <td>[fiction, fantasy, postapocalyptic, romance, a...</td>\n",
       "      <td>https://images.gr-assets.com/books/1335891621l...</td>\n",
       "      <td>es</td>\n",
       "    </tr>\n",
       "    <tr>\n",
       "      <th>2</th>\n",
       "      <td>Bado žaidynės</td>\n",
       "      <td>[inajakaitė, suzannecollins]</td>\n",
       "      <td>LAIMĖJIMAS ATNEŠ ŠLOVĘ IR TURTĄ.PRALAIMĖJIMAS ...</td>\n",
       "      <td>[fiction, fantasy, sciencefiction, youngadult,...</td>\n",
       "      <td>https://images.gr-assets.com/books/1303117363l...</td>\n",
       "      <td>lt</td>\n",
       "    </tr>\n",
       "    <tr>\n",
       "      <th>3</th>\n",
       "      <td>Açlık Oyunları</td>\n",
       "      <td>[sevinçtezcanyanar, suzannecollins]</td>\n",
       "      <td>Etkileyici bir fantastik dünya, bitmek bilmeye...</td>\n",
       "      <td>[fiction, fantasy, sciencefiction, youngadult,...</td>\n",
       "      <td>https://images.gr-assets.com/books/1275904617l...</td>\n",
       "      <td>tr</td>\n",
       "    </tr>\n",
       "    <tr>\n",
       "      <th>4</th>\n",
       "      <td>Hunger Games</td>\n",
       "      <td>[simonabrogli, fabioparacchini, suzannecollins]</td>\n",
       "      <td>Quando Katniss urla \"Mi offro volontaria, mi o...</td>\n",
       "      <td>[fiction, fantasy, sciencefiction, youngadult,...</td>\n",
       "      <td>https://images.gr-assets.com/books/1335446608l...</td>\n",
       "      <td>it</td>\n",
       "    </tr>\n",
       "  </tbody>\n",
       "</table>\n",
       "</div>"
      ],
      "text/plain": [
       "                              book_title  \\\n",
       "0  Harry Potter and the Sorcerer's Stone   \n",
       "1                  Los juegos del hambre   \n",
       "2                          Bado žaidynės   \n",
       "3                         Açlık Oyunları   \n",
       "4                           Hunger Games   \n",
       "\n",
       "                                      book_authors  \\\n",
       "0                      [marygrandpré, j.k.rowling]   \n",
       "1                                 [suzannecollins]   \n",
       "2                     [inajakaitė, suzannecollins]   \n",
       "3              [sevinçtezcanyanar, suzannecollins]   \n",
       "4  [simonabrogli, fabioparacchini, suzannecollins]   \n",
       "\n",
       "                                           book_desc  \\\n",
       "0  Harry Potter's life is miserable. His parents ...   \n",
       "1  \\r\\r\\nGanar significa fama y fortuna. Perder s...   \n",
       "2  LAIMĖJIMAS ATNEŠ ŠLOVĘ IR TURTĄ.PRALAIMĖJIMAS ...   \n",
       "3  Etkileyici bir fantastik dünya, bitmek bilmeye...   \n",
       "4  Quando Katniss urla \"Mi offro volontaria, mi o...   \n",
       "\n",
       "                                              genres  \\\n",
       "0                     [youngadult, fiction, fantasy]   \n",
       "1  [fiction, fantasy, postapocalyptic, romance, a...   \n",
       "2  [fiction, fantasy, sciencefiction, youngadult,...   \n",
       "3  [fiction, fantasy, sciencefiction, youngadult,...   \n",
       "4  [fiction, fantasy, sciencefiction, youngadult,...   \n",
       "\n",
       "                                           image_url lang_lis  \n",
       "0  https://images.gr-assets.com/books/1474154022l...       en  \n",
       "1  https://images.gr-assets.com/books/1335891621l...       es  \n",
       "2  https://images.gr-assets.com/books/1303117363l...       lt  \n",
       "3  https://images.gr-assets.com/books/1275904617l...       tr  \n",
       "4  https://images.gr-assets.com/books/1335446608l...       it  "
      ]
     },
     "execution_count": 257,
     "metadata": {},
     "output_type": "execute_result"
    }
   ],
   "source": [
    "books.head()"
   ]
  },
  {
   "cell_type": "code",
   "execution_count": 258,
   "id": "5da0a0ca",
   "metadata": {},
   "outputs": [
    {
     "data": {
      "text/plain": [
       "(6964, 6)"
      ]
     },
     "execution_count": 258,
     "metadata": {},
     "output_type": "execute_result"
    }
   ],
   "source": [
    "books.shape"
   ]
  },
  {
   "cell_type": "code",
   "execution_count": 259,
   "id": "0d1b6992",
   "metadata": {},
   "outputs": [
    {
     "data": {
      "text/plain": [
       "(6964,)"
      ]
     },
     "execution_count": 259,
     "metadata": {},
     "output_type": "execute_result"
    }
   ],
   "source": [
    "books['book_desc'].shape"
   ]
  },
  {
   "cell_type": "code",
   "execution_count": 260,
   "id": "8458dc81",
   "metadata": {},
   "outputs": [],
   "source": [
    "books = books[books['lang_lis']  == 'en']"
   ]
  },
  {
   "cell_type": "code",
   "execution_count": 261,
   "id": "7b53f469",
   "metadata": {},
   "outputs": [
    {
     "data": {
      "text/plain": [
       "(5619, 6)"
      ]
     },
     "execution_count": 261,
     "metadata": {},
     "output_type": "execute_result"
    }
   ],
   "source": [
    "books.shape"
   ]
  },
  {
   "cell_type": "code",
   "execution_count": 262,
   "id": "e22fd05c",
   "metadata": {
    "scrolled": false
   },
   "outputs": [
    {
     "data": {
      "text/plain": [
       "\"Harry Potter's life is miserable. His parents are dead and he's stuck with his heartless relatives, who force him to live in a tiny closet under the stairs. But his fortune changes when he receives a letter that tells him the truth about himself: he's a wizard. A mysterious visitor rescues him from his relatives and takes him to his new home, Hogwarts School of Witchcraft and Wizardry.After a lifetime of bottling up his magical powers, Harry finally feels like a normal kid. But even within the Wizarding community, he is special. He is the boy who lived: the only person to have ever survived a killing curse inflicted by the evil Lord Voldemort, who launched a brutal takeover of the Wizarding world, only to vanish after failing to kill Harry.Though Harry's first year at Hogwarts is the best of his life, not everything is perfect. There is a dangerous secret object hidden within the castle walls, and Harry believes it's his responsibility to prevent it from falling into evil hands. But doing so will bring him into contact with forces more terrifying than he ever could have imagined.Full of sympathetic characters, wildly imaginative situations, and countless exciting details, the first installment in the series assembles an unforgettable magical world and sets the stage for many high-stakes adventures to come.\""
      ]
     },
     "execution_count": 262,
     "metadata": {},
     "output_type": "execute_result"
    }
   ],
   "source": [
    "books['book_desc'][0]"
   ]
  },
  {
   "cell_type": "code",
   "execution_count": null,
   "id": "62204e24",
   "metadata": {},
   "outputs": [],
   "source": []
  },
  {
   "cell_type": "code",
   "execution_count": 263,
   "id": "cc20a201",
   "metadata": {},
   "outputs": [],
   "source": [
    "books['book_desc'] = books['book_desc'].apply(lambda x: x.split())"
   ]
  },
  {
   "cell_type": "code",
   "execution_count": 264,
   "id": "91323f84",
   "metadata": {},
   "outputs": [
    {
     "data": {
      "text/html": [
       "<div>\n",
       "<style scoped>\n",
       "    .dataframe tbody tr th:only-of-type {\n",
       "        vertical-align: middle;\n",
       "    }\n",
       "\n",
       "    .dataframe tbody tr th {\n",
       "        vertical-align: top;\n",
       "    }\n",
       "\n",
       "    .dataframe thead th {\n",
       "        text-align: right;\n",
       "    }\n",
       "</style>\n",
       "<table border=\"1\" class=\"dataframe\">\n",
       "  <thead>\n",
       "    <tr style=\"text-align: right;\">\n",
       "      <th></th>\n",
       "      <th>book_title</th>\n",
       "      <th>book_authors</th>\n",
       "      <th>book_desc</th>\n",
       "      <th>genres</th>\n",
       "      <th>image_url</th>\n",
       "      <th>lang_lis</th>\n",
       "    </tr>\n",
       "  </thead>\n",
       "  <tbody>\n",
       "    <tr>\n",
       "      <th>0</th>\n",
       "      <td>Harry Potter and the Sorcerer's Stone</td>\n",
       "      <td>[marygrandpré, j.k.rowling]</td>\n",
       "      <td>[Harry, Potter's, life, is, miserable., His, p...</td>\n",
       "      <td>[youngadult, fiction, fantasy]</td>\n",
       "      <td>https://images.gr-assets.com/books/1474154022l...</td>\n",
       "      <td>en</td>\n",
       "    </tr>\n",
       "    <tr>\n",
       "      <th>5</th>\n",
       "      <td>The Hunger Games</td>\n",
       "      <td>[suzannecollins]</td>\n",
       "      <td>[Sometime, in, the, future, after, the, destru...</td>\n",
       "      <td>[fiction, fantasy, sciencefiction, youngadult,...</td>\n",
       "      <td>https://images.gr-assets.com/books/1311332303l...</td>\n",
       "      <td>en</td>\n",
       "    </tr>\n",
       "    <tr>\n",
       "      <th>9</th>\n",
       "      <td>To Kill a Mockingbird</td>\n",
       "      <td>[harperlee]</td>\n",
       "      <td>['Shoot, all, the, Bluejays, you, want,, if, y...</td>\n",
       "      <td>[classics, fiction, historical, school, histor...</td>\n",
       "      <td>https://images.gr-assets.com/books/1459551043l...</td>\n",
       "      <td>en</td>\n",
       "    </tr>\n",
       "    <tr>\n",
       "      <th>14</th>\n",
       "      <td>The Great Gatsby</td>\n",
       "      <td>[f.scottfitzgerald]</td>\n",
       "      <td>[Here, is, a, novel,, glamorous,, ironical,, c...</td>\n",
       "      <td>[classics, fiction, school, academic, literature]</td>\n",
       "      <td>https://images.gr-assets.com/books/1394397999l...</td>\n",
       "      <td>en</td>\n",
       "    </tr>\n",
       "    <tr>\n",
       "      <th>16</th>\n",
       "      <td>The Fault in Our Stars</td>\n",
       "      <td>[johngreen]</td>\n",
       "      <td>[John, Green's, brilliant, #1, bestselling, no...</td>\n",
       "      <td>[romance, youngadult, fiction, contemporary]</td>\n",
       "      <td>https://images.gr-assets.com/books/1394995335l...</td>\n",
       "      <td>en</td>\n",
       "    </tr>\n",
       "  </tbody>\n",
       "</table>\n",
       "</div>"
      ],
      "text/plain": [
       "                               book_title                 book_authors  \\\n",
       "0   Harry Potter and the Sorcerer's Stone  [marygrandpré, j.k.rowling]   \n",
       "5                        The Hunger Games             [suzannecollins]   \n",
       "9                   To Kill a Mockingbird                  [harperlee]   \n",
       "14                       The Great Gatsby          [f.scottfitzgerald]   \n",
       "16                 The Fault in Our Stars                  [johngreen]   \n",
       "\n",
       "                                            book_desc  \\\n",
       "0   [Harry, Potter's, life, is, miserable., His, p...   \n",
       "5   [Sometime, in, the, future, after, the, destru...   \n",
       "9   ['Shoot, all, the, Bluejays, you, want,, if, y...   \n",
       "14  [Here, is, a, novel,, glamorous,, ironical,, c...   \n",
       "16  [John, Green's, brilliant, #1, bestselling, no...   \n",
       "\n",
       "                                               genres  \\\n",
       "0                      [youngadult, fiction, fantasy]   \n",
       "5   [fiction, fantasy, sciencefiction, youngadult,...   \n",
       "9   [classics, fiction, historical, school, histor...   \n",
       "14  [classics, fiction, school, academic, literature]   \n",
       "16       [romance, youngadult, fiction, contemporary]   \n",
       "\n",
       "                                            image_url lang_lis  \n",
       "0   https://images.gr-assets.com/books/1474154022l...       en  \n",
       "5   https://images.gr-assets.com/books/1311332303l...       en  \n",
       "9   https://images.gr-assets.com/books/1459551043l...       en  \n",
       "14  https://images.gr-assets.com/books/1394397999l...       en  \n",
       "16  https://images.gr-assets.com/books/1394995335l...       en  "
      ]
     },
     "execution_count": 264,
     "metadata": {},
     "output_type": "execute_result"
    }
   ],
   "source": [
    "books.head()"
   ]
  },
  {
   "cell_type": "code",
   "execution_count": 265,
   "id": "4840c02e",
   "metadata": {},
   "outputs": [],
   "source": [
    "books['tags'] = books['book_desc'] + books['genres'] + books['book_authors'] "
   ]
  },
  {
   "cell_type": "code",
   "execution_count": 266,
   "id": "f1763795",
   "metadata": {},
   "outputs": [
    {
     "data": {
      "text/html": [
       "<div>\n",
       "<style scoped>\n",
       "    .dataframe tbody tr th:only-of-type {\n",
       "        vertical-align: middle;\n",
       "    }\n",
       "\n",
       "    .dataframe tbody tr th {\n",
       "        vertical-align: top;\n",
       "    }\n",
       "\n",
       "    .dataframe thead th {\n",
       "        text-align: right;\n",
       "    }\n",
       "</style>\n",
       "<table border=\"1\" class=\"dataframe\">\n",
       "  <thead>\n",
       "    <tr style=\"text-align: right;\">\n",
       "      <th></th>\n",
       "      <th>book_title</th>\n",
       "      <th>book_authors</th>\n",
       "      <th>book_desc</th>\n",
       "      <th>genres</th>\n",
       "      <th>image_url</th>\n",
       "      <th>lang_lis</th>\n",
       "      <th>tags</th>\n",
       "    </tr>\n",
       "  </thead>\n",
       "  <tbody>\n",
       "    <tr>\n",
       "      <th>0</th>\n",
       "      <td>Harry Potter and the Sorcerer's Stone</td>\n",
       "      <td>[marygrandpré, j.k.rowling]</td>\n",
       "      <td>[Harry, Potter's, life, is, miserable., His, p...</td>\n",
       "      <td>[youngadult, fiction, fantasy]</td>\n",
       "      <td>https://images.gr-assets.com/books/1474154022l...</td>\n",
       "      <td>en</td>\n",
       "      <td>[Harry, Potter's, life, is, miserable., His, p...</td>\n",
       "    </tr>\n",
       "    <tr>\n",
       "      <th>5</th>\n",
       "      <td>The Hunger Games</td>\n",
       "      <td>[suzannecollins]</td>\n",
       "      <td>[Sometime, in, the, future, after, the, destru...</td>\n",
       "      <td>[fiction, fantasy, sciencefiction, youngadult,...</td>\n",
       "      <td>https://images.gr-assets.com/books/1311332303l...</td>\n",
       "      <td>en</td>\n",
       "      <td>[Sometime, in, the, future, after, the, destru...</td>\n",
       "    </tr>\n",
       "    <tr>\n",
       "      <th>9</th>\n",
       "      <td>To Kill a Mockingbird</td>\n",
       "      <td>[harperlee]</td>\n",
       "      <td>['Shoot, all, the, Bluejays, you, want,, if, y...</td>\n",
       "      <td>[classics, fiction, historical, school, histor...</td>\n",
       "      <td>https://images.gr-assets.com/books/1459551043l...</td>\n",
       "      <td>en</td>\n",
       "      <td>['Shoot, all, the, Bluejays, you, want,, if, y...</td>\n",
       "    </tr>\n",
       "    <tr>\n",
       "      <th>14</th>\n",
       "      <td>The Great Gatsby</td>\n",
       "      <td>[f.scottfitzgerald]</td>\n",
       "      <td>[Here, is, a, novel,, glamorous,, ironical,, c...</td>\n",
       "      <td>[classics, fiction, school, academic, literature]</td>\n",
       "      <td>https://images.gr-assets.com/books/1394397999l...</td>\n",
       "      <td>en</td>\n",
       "      <td>[Here, is, a, novel,, glamorous,, ironical,, c...</td>\n",
       "    </tr>\n",
       "    <tr>\n",
       "      <th>16</th>\n",
       "      <td>The Fault in Our Stars</td>\n",
       "      <td>[johngreen]</td>\n",
       "      <td>[John, Green's, brilliant, #1, bestselling, no...</td>\n",
       "      <td>[romance, youngadult, fiction, contemporary]</td>\n",
       "      <td>https://images.gr-assets.com/books/1394995335l...</td>\n",
       "      <td>en</td>\n",
       "      <td>[John, Green's, brilliant, #1, bestselling, no...</td>\n",
       "    </tr>\n",
       "  </tbody>\n",
       "</table>\n",
       "</div>"
      ],
      "text/plain": [
       "                               book_title                 book_authors  \\\n",
       "0   Harry Potter and the Sorcerer's Stone  [marygrandpré, j.k.rowling]   \n",
       "5                        The Hunger Games             [suzannecollins]   \n",
       "9                   To Kill a Mockingbird                  [harperlee]   \n",
       "14                       The Great Gatsby          [f.scottfitzgerald]   \n",
       "16                 The Fault in Our Stars                  [johngreen]   \n",
       "\n",
       "                                            book_desc  \\\n",
       "0   [Harry, Potter's, life, is, miserable., His, p...   \n",
       "5   [Sometime, in, the, future, after, the, destru...   \n",
       "9   ['Shoot, all, the, Bluejays, you, want,, if, y...   \n",
       "14  [Here, is, a, novel,, glamorous,, ironical,, c...   \n",
       "16  [John, Green's, brilliant, #1, bestselling, no...   \n",
       "\n",
       "                                               genres  \\\n",
       "0                      [youngadult, fiction, fantasy]   \n",
       "5   [fiction, fantasy, sciencefiction, youngadult,...   \n",
       "9   [classics, fiction, historical, school, histor...   \n",
       "14  [classics, fiction, school, academic, literature]   \n",
       "16       [romance, youngadult, fiction, contemporary]   \n",
       "\n",
       "                                            image_url lang_lis  \\\n",
       "0   https://images.gr-assets.com/books/1474154022l...       en   \n",
       "5   https://images.gr-assets.com/books/1311332303l...       en   \n",
       "9   https://images.gr-assets.com/books/1459551043l...       en   \n",
       "14  https://images.gr-assets.com/books/1394397999l...       en   \n",
       "16  https://images.gr-assets.com/books/1394995335l...       en   \n",
       "\n",
       "                                                 tags  \n",
       "0   [Harry, Potter's, life, is, miserable., His, p...  \n",
       "5   [Sometime, in, the, future, after, the, destru...  \n",
       "9   ['Shoot, all, the, Bluejays, you, want,, if, y...  \n",
       "14  [Here, is, a, novel,, glamorous,, ironical,, c...  \n",
       "16  [John, Green's, brilliant, #1, bestselling, no...  "
      ]
     },
     "execution_count": 266,
     "metadata": {},
     "output_type": "execute_result"
    }
   ],
   "source": [
    "books.head()"
   ]
  },
  {
   "cell_type": "code",
   "execution_count": 267,
   "id": "d42ae59a",
   "metadata": {},
   "outputs": [],
   "source": [
    "new_df = books[['book_title','image_url','tags']]"
   ]
  },
  {
   "cell_type": "code",
   "execution_count": 268,
   "id": "18ddcac2",
   "metadata": {},
   "outputs": [
    {
     "data": {
      "text/html": [
       "<div>\n",
       "<style scoped>\n",
       "    .dataframe tbody tr th:only-of-type {\n",
       "        vertical-align: middle;\n",
       "    }\n",
       "\n",
       "    .dataframe tbody tr th {\n",
       "        vertical-align: top;\n",
       "    }\n",
       "\n",
       "    .dataframe thead th {\n",
       "        text-align: right;\n",
       "    }\n",
       "</style>\n",
       "<table border=\"1\" class=\"dataframe\">\n",
       "  <thead>\n",
       "    <tr style=\"text-align: right;\">\n",
       "      <th></th>\n",
       "      <th>book_title</th>\n",
       "      <th>image_url</th>\n",
       "      <th>tags</th>\n",
       "    </tr>\n",
       "  </thead>\n",
       "  <tbody>\n",
       "    <tr>\n",
       "      <th>0</th>\n",
       "      <td>Harry Potter and the Sorcerer's Stone</td>\n",
       "      <td>https://images.gr-assets.com/books/1474154022l...</td>\n",
       "      <td>[Harry, Potter's, life, is, miserable., His, p...</td>\n",
       "    </tr>\n",
       "    <tr>\n",
       "      <th>5</th>\n",
       "      <td>The Hunger Games</td>\n",
       "      <td>https://images.gr-assets.com/books/1311332303l...</td>\n",
       "      <td>[Sometime, in, the, future, after, the, destru...</td>\n",
       "    </tr>\n",
       "    <tr>\n",
       "      <th>9</th>\n",
       "      <td>To Kill a Mockingbird</td>\n",
       "      <td>https://images.gr-assets.com/books/1459551043l...</td>\n",
       "      <td>['Shoot, all, the, Bluejays, you, want,, if, y...</td>\n",
       "    </tr>\n",
       "    <tr>\n",
       "      <th>14</th>\n",
       "      <td>The Great Gatsby</td>\n",
       "      <td>https://images.gr-assets.com/books/1394397999l...</td>\n",
       "      <td>[Here, is, a, novel,, glamorous,, ironical,, c...</td>\n",
       "    </tr>\n",
       "    <tr>\n",
       "      <th>16</th>\n",
       "      <td>The Fault in Our Stars</td>\n",
       "      <td>https://images.gr-assets.com/books/1394995335l...</td>\n",
       "      <td>[John, Green's, brilliant, #1, bestselling, no...</td>\n",
       "    </tr>\n",
       "  </tbody>\n",
       "</table>\n",
       "</div>"
      ],
      "text/plain": [
       "                               book_title  \\\n",
       "0   Harry Potter and the Sorcerer's Stone   \n",
       "5                        The Hunger Games   \n",
       "9                   To Kill a Mockingbird   \n",
       "14                       The Great Gatsby   \n",
       "16                 The Fault in Our Stars   \n",
       "\n",
       "                                            image_url  \\\n",
       "0   https://images.gr-assets.com/books/1474154022l...   \n",
       "5   https://images.gr-assets.com/books/1311332303l...   \n",
       "9   https://images.gr-assets.com/books/1459551043l...   \n",
       "14  https://images.gr-assets.com/books/1394397999l...   \n",
       "16  https://images.gr-assets.com/books/1394995335l...   \n",
       "\n",
       "                                                 tags  \n",
       "0   [Harry, Potter's, life, is, miserable., His, p...  \n",
       "5   [Sometime, in, the, future, after, the, destru...  \n",
       "9   ['Shoot, all, the, Bluejays, you, want,, if, y...  \n",
       "14  [Here, is, a, novel,, glamorous,, ironical,, c...  \n",
       "16  [John, Green's, brilliant, #1, bestselling, no...  "
      ]
     },
     "execution_count": 268,
     "metadata": {},
     "output_type": "execute_result"
    }
   ],
   "source": [
    "new_df.head()"
   ]
  },
  {
   "cell_type": "code",
   "execution_count": 269,
   "id": "bae4f9bf",
   "metadata": {},
   "outputs": [
    {
     "data": {
      "text/plain": [
       "(5619, 3)"
      ]
     },
     "execution_count": 269,
     "metadata": {},
     "output_type": "execute_result"
    }
   ],
   "source": [
    "new_df.shape"
   ]
  },
  {
   "cell_type": "code",
   "execution_count": 270,
   "id": "22ac0088",
   "metadata": {},
   "outputs": [
    {
     "data": {
      "text/plain": [
       "0"
      ]
     },
     "execution_count": 270,
     "metadata": {},
     "output_type": "execute_result"
    }
   ],
   "source": [
    "new_df['image_url'].duplicated().sum()"
   ]
  },
  {
   "cell_type": "code",
   "execution_count": 271,
   "id": "d6e4f17d",
   "metadata": {},
   "outputs": [
    {
     "name": "stderr",
     "output_type": "stream",
     "text": [
      "C:\\Users\\SAYANTAN BISWAS\\AppData\\Local\\Temp\\ipykernel_6744\\895399174.py:1: SettingWithCopyWarning: \n",
      "A value is trying to be set on a copy of a slice from a DataFrame.\n",
      "Try using .loc[row_indexer,col_indexer] = value instead\n",
      "\n",
      "See the caveats in the documentation: https://pandas.pydata.org/pandas-docs/stable/user_guide/indexing.html#returning-a-view-versus-a-copy\n",
      "  new_df['tags'] = new_df['tags'].apply(lambda x: ' '.join(x))\n"
     ]
    }
   ],
   "source": [
    "new_df['tags'] = new_df['tags'].apply(lambda x: ' '.join(x))"
   ]
  },
  {
   "cell_type": "code",
   "execution_count": 272,
   "id": "6fc8aa3b",
   "metadata": {},
   "outputs": [
    {
     "name": "stderr",
     "output_type": "stream",
     "text": [
      "C:\\Users\\SAYANTAN BISWAS\\AppData\\Local\\Temp\\ipykernel_6744\\1380776331.py:1: SettingWithCopyWarning: \n",
      "A value is trying to be set on a copy of a slice from a DataFrame.\n",
      "Try using .loc[row_indexer,col_indexer] = value instead\n",
      "\n",
      "See the caveats in the documentation: https://pandas.pydata.org/pandas-docs/stable/user_guide/indexing.html#returning-a-view-versus-a-copy\n",
      "  new_df['tags'] = new_df['tags'].apply(lambda x: x.lower())\n"
     ]
    }
   ],
   "source": [
    "new_df['tags'] = new_df['tags'].apply(lambda x: x.lower())"
   ]
  },
  {
   "cell_type": "code",
   "execution_count": 273,
   "id": "07485785",
   "metadata": {
    "scrolled": true
   },
   "outputs": [
    {
     "data": {
      "text/html": [
       "<div>\n",
       "<style scoped>\n",
       "    .dataframe tbody tr th:only-of-type {\n",
       "        vertical-align: middle;\n",
       "    }\n",
       "\n",
       "    .dataframe tbody tr th {\n",
       "        vertical-align: top;\n",
       "    }\n",
       "\n",
       "    .dataframe thead th {\n",
       "        text-align: right;\n",
       "    }\n",
       "</style>\n",
       "<table border=\"1\" class=\"dataframe\">\n",
       "  <thead>\n",
       "    <tr style=\"text-align: right;\">\n",
       "      <th></th>\n",
       "      <th>book_title</th>\n",
       "      <th>image_url</th>\n",
       "      <th>tags</th>\n",
       "    </tr>\n",
       "  </thead>\n",
       "  <tbody>\n",
       "    <tr>\n",
       "      <th>0</th>\n",
       "      <td>Harry Potter and the Sorcerer's Stone</td>\n",
       "      <td>https://images.gr-assets.com/books/1474154022l...</td>\n",
       "      <td>harry potter's life is miserable. his parents ...</td>\n",
       "    </tr>\n",
       "    <tr>\n",
       "      <th>5</th>\n",
       "      <td>The Hunger Games</td>\n",
       "      <td>https://images.gr-assets.com/books/1311332303l...</td>\n",
       "      <td>sometime in the future after the destruction o...</td>\n",
       "    </tr>\n",
       "    <tr>\n",
       "      <th>9</th>\n",
       "      <td>To Kill a Mockingbird</td>\n",
       "      <td>https://images.gr-assets.com/books/1459551043l...</td>\n",
       "      <td>'shoot all the bluejays you want, if you can h...</td>\n",
       "    </tr>\n",
       "    <tr>\n",
       "      <th>14</th>\n",
       "      <td>The Great Gatsby</td>\n",
       "      <td>https://images.gr-assets.com/books/1394397999l...</td>\n",
       "      <td>here is a novel, glamorous, ironical, compassi...</td>\n",
       "    </tr>\n",
       "    <tr>\n",
       "      <th>16</th>\n",
       "      <td>The Fault in Our Stars</td>\n",
       "      <td>https://images.gr-assets.com/books/1394995335l...</td>\n",
       "      <td>john green's brilliant #1 bestselling novel \"t...</td>\n",
       "    </tr>\n",
       "  </tbody>\n",
       "</table>\n",
       "</div>"
      ],
      "text/plain": [
       "                               book_title  \\\n",
       "0   Harry Potter and the Sorcerer's Stone   \n",
       "5                        The Hunger Games   \n",
       "9                   To Kill a Mockingbird   \n",
       "14                       The Great Gatsby   \n",
       "16                 The Fault in Our Stars   \n",
       "\n",
       "                                            image_url  \\\n",
       "0   https://images.gr-assets.com/books/1474154022l...   \n",
       "5   https://images.gr-assets.com/books/1311332303l...   \n",
       "9   https://images.gr-assets.com/books/1459551043l...   \n",
       "14  https://images.gr-assets.com/books/1394397999l...   \n",
       "16  https://images.gr-assets.com/books/1394995335l...   \n",
       "\n",
       "                                                 tags  \n",
       "0   harry potter's life is miserable. his parents ...  \n",
       "5   sometime in the future after the destruction o...  \n",
       "9   'shoot all the bluejays you want, if you can h...  \n",
       "14  here is a novel, glamorous, ironical, compassi...  \n",
       "16  john green's brilliant #1 bestselling novel \"t...  "
      ]
     },
     "execution_count": 273,
     "metadata": {},
     "output_type": "execute_result"
    }
   ],
   "source": [
    "new_df.head()"
   ]
  },
  {
   "cell_type": "code",
   "execution_count": 274,
   "id": "028ae655",
   "metadata": {
    "scrolled": true
   },
   "outputs": [
    {
     "data": {
      "text/plain": [
       "(5619, 3)"
      ]
     },
     "execution_count": 274,
     "metadata": {},
     "output_type": "execute_result"
    }
   ],
   "source": [
    "new_df.shape"
   ]
  },
  {
   "cell_type": "code",
   "execution_count": 275,
   "id": "ec5f021b",
   "metadata": {},
   "outputs": [],
   "source": [
    "import nltk "
   ]
  },
  {
   "cell_type": "code",
   "execution_count": 276,
   "id": "1589aa53",
   "metadata": {},
   "outputs": [],
   "source": [
    "from nltk.stem.porter import PorterStemmer\n",
    "ps = PorterStemmer()"
   ]
  },
  {
   "cell_type": "code",
   "execution_count": 277,
   "id": "5cb08bcf",
   "metadata": {},
   "outputs": [],
   "source": [
    "def stem(text):\n",
    "    y = []\n",
    "    for i in text.split():\n",
    "        y.append(ps.stem(i))\n",
    "    return ' '.join(y)"
   ]
  },
  {
   "cell_type": "code",
   "execution_count": 278,
   "id": "05b3ef98",
   "metadata": {
    "scrolled": true
   },
   "outputs": [
    {
     "name": "stderr",
     "output_type": "stream",
     "text": [
      "C:\\Users\\SAYANTAN BISWAS\\AppData\\Local\\Temp\\ipykernel_6744\\3213734980.py:1: SettingWithCopyWarning: \n",
      "A value is trying to be set on a copy of a slice from a DataFrame.\n",
      "Try using .loc[row_indexer,col_indexer] = value instead\n",
      "\n",
      "See the caveats in the documentation: https://pandas.pydata.org/pandas-docs/stable/user_guide/indexing.html#returning-a-view-versus-a-copy\n",
      "  new_df['tags'] = new_df['tags'].apply(stem)\n"
     ]
    }
   ],
   "source": [
    "new_df['tags'] = new_df['tags'].apply(stem)"
   ]
  },
  {
   "cell_type": "code",
   "execution_count": 279,
   "id": "8b317a35",
   "metadata": {
    "scrolled": true
   },
   "outputs": [
    {
     "data": {
      "text/html": [
       "<div>\n",
       "<style scoped>\n",
       "    .dataframe tbody tr th:only-of-type {\n",
       "        vertical-align: middle;\n",
       "    }\n",
       "\n",
       "    .dataframe tbody tr th {\n",
       "        vertical-align: top;\n",
       "    }\n",
       "\n",
       "    .dataframe thead th {\n",
       "        text-align: right;\n",
       "    }\n",
       "</style>\n",
       "<table border=\"1\" class=\"dataframe\">\n",
       "  <thead>\n",
       "    <tr style=\"text-align: right;\">\n",
       "      <th></th>\n",
       "      <th>book_title</th>\n",
       "      <th>image_url</th>\n",
       "      <th>tags</th>\n",
       "    </tr>\n",
       "  </thead>\n",
       "  <tbody>\n",
       "    <tr>\n",
       "      <th>0</th>\n",
       "      <td>Harry Potter and the Sorcerer's Stone</td>\n",
       "      <td>https://images.gr-assets.com/books/1474154022l...</td>\n",
       "      <td>harri potter' life is miserable. hi parent are...</td>\n",
       "    </tr>\n",
       "    <tr>\n",
       "      <th>5</th>\n",
       "      <td>The Hunger Games</td>\n",
       "      <td>https://images.gr-assets.com/books/1311332303l...</td>\n",
       "      <td>sometim in the futur after the destruct of nor...</td>\n",
       "    </tr>\n",
       "    <tr>\n",
       "      <th>9</th>\n",
       "      <td>To Kill a Mockingbird</td>\n",
       "      <td>https://images.gr-assets.com/books/1459551043l...</td>\n",
       "      <td>'shoot all the bluejay you want, if you can hi...</td>\n",
       "    </tr>\n",
       "    <tr>\n",
       "      <th>14</th>\n",
       "      <td>The Great Gatsby</td>\n",
       "      <td>https://images.gr-assets.com/books/1394397999l...</td>\n",
       "      <td>here is a novel, glamorous, ironical, compassi...</td>\n",
       "    </tr>\n",
       "    <tr>\n",
       "      <th>16</th>\n",
       "      <td>The Fault in Our Stars</td>\n",
       "      <td>https://images.gr-assets.com/books/1394995335l...</td>\n",
       "      <td>john green' brilliant #1 bestsel novel \"the fa...</td>\n",
       "    </tr>\n",
       "  </tbody>\n",
       "</table>\n",
       "</div>"
      ],
      "text/plain": [
       "                               book_title  \\\n",
       "0   Harry Potter and the Sorcerer's Stone   \n",
       "5                        The Hunger Games   \n",
       "9                   To Kill a Mockingbird   \n",
       "14                       The Great Gatsby   \n",
       "16                 The Fault in Our Stars   \n",
       "\n",
       "                                            image_url  \\\n",
       "0   https://images.gr-assets.com/books/1474154022l...   \n",
       "5   https://images.gr-assets.com/books/1311332303l...   \n",
       "9   https://images.gr-assets.com/books/1459551043l...   \n",
       "14  https://images.gr-assets.com/books/1394397999l...   \n",
       "16  https://images.gr-assets.com/books/1394995335l...   \n",
       "\n",
       "                                                 tags  \n",
       "0   harri potter' life is miserable. hi parent are...  \n",
       "5   sometim in the futur after the destruct of nor...  \n",
       "9   'shoot all the bluejay you want, if you can hi...  \n",
       "14  here is a novel, glamorous, ironical, compassi...  \n",
       "16  john green' brilliant #1 bestsel novel \"the fa...  "
      ]
     },
     "execution_count": 279,
     "metadata": {},
     "output_type": "execute_result"
    }
   ],
   "source": [
    "new_df.head()"
   ]
  },
  {
   "cell_type": "code",
   "execution_count": 280,
   "id": "06fd6345",
   "metadata": {},
   "outputs": [
    {
     "data": {
      "text/plain": [
       "\"harri potter' life is miserable. hi parent are dead and he' stuck with hi heartless relatives, who forc him to live in a tini closet under the stairs. but hi fortun chang when he receiv a letter that tell him the truth about himself: he' a wizard. a mysteri visitor rescu him from hi rel and take him to hi new home, hogwart school of witchcraft and wizardry.aft a lifetim of bottl up hi magic powers, harri final feel like a normal kid. but even within the wizard community, he is special. he is the boy who lived: the onli person to have ever surviv a kill curs inflict by the evil lord voldemort, who launch a brutal takeov of the wizard world, onli to vanish after fail to kill harry.though harry' first year at hogwart is the best of hi life, not everyth is perfect. there is a danger secret object hidden within the castl walls, and harri believ it' hi respons to prevent it from fall into evil hands. but do so will bring him into contact with forc more terrifi than he ever could have imagined.ful of sympathet characters, wildli imagin situations, and countless excit details, the first instal in the seri assembl an unforgett magic world and set the stage for mani high-stak adventur to come. youngadult fiction fantasi marygrandpré j.k.rowl\""
      ]
     },
     "execution_count": 280,
     "metadata": {},
     "output_type": "execute_result"
    }
   ],
   "source": [
    "new_df['tags'][0]"
   ]
  },
  {
   "cell_type": "markdown",
   "id": "0f54566b",
   "metadata": {},
   "source": [
    "## Vectorisation"
   ]
  },
  {
   "cell_type": "code",
   "execution_count": 289,
   "id": "e2737d7a",
   "metadata": {},
   "outputs": [],
   "source": [
    "from sklearn.feature_extraction.text import CountVectorizer\n",
    "cv = CountVectorizer(max_features=5000,stop_words='english')"
   ]
  },
  {
   "cell_type": "code",
   "execution_count": 290,
   "id": "a631198a",
   "metadata": {},
   "outputs": [],
   "source": [
    "vectors = cv.fit_transform(new_df['tags']).toarray()"
   ]
  },
  {
   "cell_type": "code",
   "execution_count": 291,
   "id": "56da4988",
   "metadata": {},
   "outputs": [
    {
     "data": {
      "text/plain": [
       "array([[0, 0, 0, ..., 0, 0, 0],\n",
       "       [0, 0, 0, ..., 0, 0, 0],\n",
       "       [0, 0, 0, ..., 0, 0, 0],\n",
       "       ...,\n",
       "       [0, 0, 0, ..., 0, 0, 0],\n",
       "       [0, 0, 0, ..., 0, 0, 0],\n",
       "       [0, 0, 0, ..., 0, 0, 0]], dtype=int64)"
      ]
     },
     "execution_count": 291,
     "metadata": {},
     "output_type": "execute_result"
    }
   ],
   "source": [
    "vectors"
   ]
  },
  {
   "cell_type": "code",
   "execution_count": 292,
   "id": "9f4c9504",
   "metadata": {},
   "outputs": [
    {
     "data": {
      "text/plain": [
       "array([0, 0, 0, ..., 0, 0, 0], dtype=int64)"
      ]
     },
     "execution_count": 292,
     "metadata": {},
     "output_type": "execute_result"
    }
   ],
   "source": [
    "vectors[0]"
   ]
  },
  {
   "cell_type": "code",
   "execution_count": 293,
   "id": "3db5b5f0",
   "metadata": {
    "collapsed": true
   },
   "outputs": [
    {
     "name": "stderr",
     "output_type": "stream",
     "text": [
      "C:\\Users\\SAYANTAN BISWAS\\AppData\\Local\\Programs\\Python\\Python310\\lib\\site-packages\\sklearn\\utils\\deprecation.py:87: FutureWarning: Function get_feature_names is deprecated; get_feature_names is deprecated in 1.0 and will be removed in 1.2. Please use get_feature_names_out instead.\n",
      "  warnings.warn(msg, category=FutureWarning)\n"
     ]
    },
    {
     "data": {
      "text/plain": [
       "['000',\n",
       " '10',\n",
       " '100',\n",
       " '11',\n",
       " '12',\n",
       " '13',\n",
       " '14',\n",
       " '15',\n",
       " '16',\n",
       " '17',\n",
       " '18',\n",
       " '19',\n",
       " '1939',\n",
       " '1940',\n",
       " '1942',\n",
       " '1960',\n",
       " '1970',\n",
       " '1978',\n",
       " '1981',\n",
       " '1984',\n",
       " '1985',\n",
       " '1993',\n",
       " '1999',\n",
       " '19th',\n",
       " '19thcenturi',\n",
       " '1st',\n",
       " '20',\n",
       " '2008',\n",
       " '2011',\n",
       " '2013',\n",
       " '20th',\n",
       " '21',\n",
       " '21st',\n",
       " '22',\n",
       " '23',\n",
       " '24',\n",
       " '25',\n",
       " '30',\n",
       " '300',\n",
       " '40',\n",
       " '50',\n",
       " '500',\n",
       " 'abandon',\n",
       " 'abandoned',\n",
       " 'abbey',\n",
       " 'abbi',\n",
       " 'abbiglin',\n",
       " 'abduct',\n",
       " 'abid',\n",
       " 'abil',\n",
       " 'abilities',\n",
       " 'ability',\n",
       " 'abl',\n",
       " 'aboard',\n",
       " 'abov',\n",
       " 'abraham',\n",
       " 'abroad',\n",
       " 'absent',\n",
       " 'absolut',\n",
       " 'absorb',\n",
       " 'absurd',\n",
       " 'abus',\n",
       " 'abuse',\n",
       " 'abyss',\n",
       " 'academ',\n",
       " 'academi',\n",
       " 'academy',\n",
       " 'accept',\n",
       " 'access',\n",
       " 'accid',\n",
       " 'accident',\n",
       " 'acclaim',\n",
       " 'accompani',\n",
       " 'accomplish',\n",
       " 'accord',\n",
       " 'account',\n",
       " 'accur',\n",
       " 'accus',\n",
       " 'ace',\n",
       " 'ach',\n",
       " 'achiev',\n",
       " 'achievement',\n",
       " 'acknowledg',\n",
       " 'acquir',\n",
       " 'act',\n",
       " 'action',\n",
       " 'actions',\n",
       " 'activ',\n",
       " 'actor',\n",
       " 'actress',\n",
       " 'actual',\n",
       " 'acut',\n",
       " 'ad',\n",
       " 'ada',\n",
       " 'adam',\n",
       " 'adams',\n",
       " 'adapt',\n",
       " 'add',\n",
       " 'addi',\n",
       " 'addict',\n",
       " 'addit',\n",
       " 'address',\n",
       " 'adjust',\n",
       " 'admir',\n",
       " 'admit',\n",
       " 'adolesc',\n",
       " 'adopt',\n",
       " 'ador',\n",
       " 'adrift',\n",
       " 'adult',\n",
       " 'adultfict',\n",
       " 'adulthood',\n",
       " 'advanc',\n",
       " 'adventur',\n",
       " 'adventure',\n",
       " 'adventures',\n",
       " 'adversari',\n",
       " 'advic',\n",
       " 'advice',\n",
       " 'affair',\n",
       " 'affect',\n",
       " 'affection',\n",
       " 'afford',\n",
       " 'afraid',\n",
       " 'africa',\n",
       " 'african',\n",
       " 'africanamerican',\n",
       " 'aft',\n",
       " 'aftermath',\n",
       " 'afternoon',\n",
       " 'ag',\n",
       " 'agatha',\n",
       " 'agathachristi',\n",
       " 'age',\n",
       " 'agenc',\n",
       " 'agency',\n",
       " 'agenda',\n",
       " 'agent',\n",
       " 'ages',\n",
       " 'ago',\n",
       " 'agre',\n",
       " 'ahead',\n",
       " 'aid',\n",
       " 'aidan',\n",
       " 'aim',\n",
       " 'air',\n",
       " 'airport',\n",
       " 'aka',\n",
       " 'al',\n",
       " 'alan',\n",
       " 'alanna',\n",
       " 'alarm',\n",
       " 'albom',\n",
       " 'alchemist',\n",
       " 'alcohol',\n",
       " 'alex',\n",
       " 'alexand',\n",
       " 'alexander',\n",
       " 'alfr',\n",
       " 'ali',\n",
       " 'alic',\n",
       " 'alice',\n",
       " 'alien',\n",
       " 'alik',\n",
       " 'alike',\n",
       " 'alina',\n",
       " 'aliv',\n",
       " 'alive',\n",
       " 'allan',\n",
       " 'allegi',\n",
       " 'allen',\n",
       " 'alley',\n",
       " 'alli',\n",
       " 'allianc',\n",
       " 'allies',\n",
       " 'allow',\n",
       " 'allur',\n",
       " 'ally',\n",
       " 'alon',\n",
       " 'alongsid',\n",
       " 'aloud',\n",
       " 'alpha',\n",
       " 'alreadi',\n",
       " 'alter',\n",
       " 'altern',\n",
       " 'alway',\n",
       " 'alyss',\n",
       " 'amanda',\n",
       " 'amaz',\n",
       " 'amazon',\n",
       " 'amber',\n",
       " 'ambit',\n",
       " 'ambiti',\n",
       " 'ambition',\n",
       " 'ambush',\n",
       " 'amelia',\n",
       " 'america',\n",
       " 'american',\n",
       " 'americanhistori',\n",
       " 'americans',\n",
       " 'ami',\n",
       " 'amid',\n",
       " 'amidst',\n",
       " 'amsterdam',\n",
       " 'amus',\n",
       " 'amy',\n",
       " 'ana',\n",
       " 'analysi',\n",
       " 'ancestor',\n",
       " 'ancestors',\n",
       " 'ancient',\n",
       " 'anderson',\n",
       " 'andrea',\n",
       " 'andrew',\n",
       " 'anew',\n",
       " 'angel',\n",
       " 'angela',\n",
       " 'angeles',\n",
       " 'angels',\n",
       " 'anger',\n",
       " 'angri',\n",
       " 'anguish',\n",
       " 'ani',\n",
       " 'anim',\n",
       " 'animals',\n",
       " 'anita',\n",
       " 'ann',\n",
       " 'anna',\n",
       " 'annabel',\n",
       " 'anneric',\n",
       " 'anni',\n",
       " 'annihil',\n",
       " 'anniversari',\n",
       " 'annot',\n",
       " 'announc',\n",
       " 'annual',\n",
       " 'anonym',\n",
       " 'anoth',\n",
       " 'answer',\n",
       " 'answers',\n",
       " 'anthoni',\n",
       " 'anthropologist',\n",
       " 'anti',\n",
       " 'anticip',\n",
       " 'antiqu',\n",
       " 'anymore',\n",
       " 'anyon',\n",
       " 'anyth',\n",
       " 'anywher',\n",
       " 'apart',\n",
       " 'apartment',\n",
       " 'apocalypt',\n",
       " 'appal',\n",
       " 'appar',\n",
       " 'appeal',\n",
       " 'appear',\n",
       " 'appearance',\n",
       " 'appears',\n",
       " 'appli',\n",
       " 'appoint',\n",
       " 'appreci',\n",
       " 'apprentic',\n",
       " 'apprentice',\n",
       " 'approach',\n",
       " 'april',\n",
       " 'ar',\n",
       " 'arc',\n",
       " 'archer',\n",
       " 'architect',\n",
       " 'ardent',\n",
       " 'area',\n",
       " 'aren',\n",
       " 'arena',\n",
       " 'argu',\n",
       " 'argument',\n",
       " 'aria',\n",
       " 'aristocrat',\n",
       " 'arm',\n",
       " 'armand',\n",
       " 'armi',\n",
       " 'arms',\n",
       " 'armstrong',\n",
       " 'army',\n",
       " 'arrang',\n",
       " 'array',\n",
       " 'arrest',\n",
       " 'arriv',\n",
       " 'arrives',\n",
       " 'arrog',\n",
       " 'arrogant',\n",
       " 'art',\n",
       " 'artemi',\n",
       " 'arthistori',\n",
       " 'arthur',\n",
       " 'arthurconandoyl',\n",
       " 'articul',\n",
       " 'artifact',\n",
       " 'artist',\n",
       " 'artwork',\n",
       " 'ash',\n",
       " 'ashton',\n",
       " 'asia',\n",
       " 'asianliteratur',\n",
       " 'asid',\n",
       " 'asin',\n",
       " 'ask',\n",
       " 'aspect',\n",
       " 'aspir',\n",
       " 'assassin',\n",
       " 'assassins',\n",
       " 'assault',\n",
       " 'assembl',\n",
       " 'assign',\n",
       " 'assignment',\n",
       " 'assist',\n",
       " 'associ',\n",
       " 'assort',\n",
       " 'assum',\n",
       " 'assumpt',\n",
       " 'assur',\n",
       " 'astonish',\n",
       " 'astound',\n",
       " 'athlet',\n",
       " 'atlant',\n",
       " 'atlanta',\n",
       " 'atlantic',\n",
       " 'atmospher',\n",
       " 'attach',\n",
       " 'attack',\n",
       " 'attempt',\n",
       " 'attend',\n",
       " 'attent',\n",
       " 'attention',\n",
       " 'attic',\n",
       " 'attitud',\n",
       " 'attitude',\n",
       " 'attorney',\n",
       " 'attract',\n",
       " 'attraction',\n",
       " 'auction',\n",
       " 'audaci',\n",
       " 'audienc',\n",
       " 'audio',\n",
       " 'audiobook',\n",
       " 'august',\n",
       " 'augusten',\n",
       " 'aunt',\n",
       " 'austen',\n",
       " 'australia',\n",
       " 'australian',\n",
       " 'authent',\n",
       " 'author',\n",
       " 'authorit',\n",
       " 'authorities',\n",
       " 'authors',\n",
       " 'autobiograph',\n",
       " 'autobiographi',\n",
       " 'autobiography',\n",
       " 'autumn',\n",
       " 'ava',\n",
       " 'avail',\n",
       " 'aveng',\n",
       " 'averag',\n",
       " 'avert',\n",
       " 'avoid',\n",
       " 'aw',\n",
       " 'await',\n",
       " 'awak',\n",
       " 'awaken',\n",
       " 'awar',\n",
       " 'award',\n",
       " 'awards',\n",
       " 'away',\n",
       " 'awe',\n",
       " 'awesom',\n",
       " 'awkward',\n",
       " 'ayla',\n",
       " 'babi',\n",
       " 'baby',\n",
       " 'bachelor',\n",
       " 'backdrop',\n",
       " 'background',\n",
       " 'bad',\n",
       " 'badli',\n",
       " 'baffl',\n",
       " 'bag',\n",
       " 'bail',\n",
       " 'bailey',\n",
       " 'bake',\n",
       " 'baker',\n",
       " 'balanc',\n",
       " 'balance',\n",
       " 'ball',\n",
       " 'band',\n",
       " 'bane',\n",
       " 'banish',\n",
       " 'bank',\n",
       " 'bar',\n",
       " 'barbara',\n",
       " 'barbarian',\n",
       " 'bard',\n",
       " 'bare',\n",
       " 'bargain',\n",
       " 'barn',\n",
       " 'barrier',\n",
       " 'bas',\n",
       " 'base',\n",
       " 'basebal',\n",
       " 'basement',\n",
       " 'basic',\n",
       " 'bastard',\n",
       " 'bath',\n",
       " 'bathroom',\n",
       " 'batman',\n",
       " 'battl',\n",
       " 'battle',\n",
       " 'battlefield',\n",
       " 'battles',\n",
       " 'baudelair',\n",
       " 'bay',\n",
       " 'bdsm',\n",
       " 'beach',\n",
       " 'bean',\n",
       " 'bear',\n",
       " 'beast',\n",
       " 'beat',\n",
       " 'beauti',\n",
       " 'beautiful',\n",
       " 'beauty',\n",
       " 'becam',\n",
       " 'becaus',\n",
       " 'becki',\n",
       " 'becom',\n",
       " 'bed',\n",
       " 'bedroom',\n",
       " 'beer',\n",
       " 'befor',\n",
       " 'befriend',\n",
       " 'beg',\n",
       " 'began',\n",
       " 'begin',\n",
       " 'beginning',\n",
       " 'begins',\n",
       " 'beguil',\n",
       " 'begun',\n",
       " 'behavior',\n",
       " 'beings',\n",
       " 'beka',\n",
       " 'belief',\n",
       " 'believ',\n",
       " 'believe',\n",
       " 'bell',\n",
       " 'bella',\n",
       " 'belli',\n",
       " 'belong',\n",
       " 'belov',\n",
       " 'belt',\n",
       " 'ben',\n",
       " 'bend',\n",
       " 'beneath',\n",
       " 'benefit',\n",
       " 'benjamin',\n",
       " 'bennett',\n",
       " 'bent',\n",
       " 'berlin',\n",
       " 'bernard',\n",
       " 'besid',\n",
       " 'best',\n",
       " 'bestsel',\n",
       " 'bestseller',\n",
       " 'bet',\n",
       " 'beth',\n",
       " 'betray',\n",
       " 'betrayal',\n",
       " 'better',\n",
       " 'bi',\n",
       " 'bianca',\n",
       " 'bibl',\n",
       " 'bible',\n",
       " 'bid',\n",
       " 'big',\n",
       " 'bigger',\n",
       " 'biggest',\n",
       " 'billi',\n",
       " 'billion',\n",
       " 'billionair',\n",
       " 'bind',\n",
       " 'biographi',\n",
       " 'biographymemoir',\n",
       " 'biolog',\n",
       " 'bird',\n",
       " 'birth',\n",
       " 'birthday',\n",
       " 'bishop',\n",
       " 'bit',\n",
       " 'bite',\n",
       " 'bitter',\n",
       " 'bittersweet',\n",
       " 'bizarr',\n",
       " 'black',\n",
       " 'blackmail',\n",
       " 'blade',\n",
       " 'blake',\n",
       " 'blame',\n",
       " 'blast',\n",
       " 'blaze',\n",
       " 'blend',\n",
       " 'bless',\n",
       " 'blind',\n",
       " 'blink',\n",
       " 'bliss',\n",
       " 'block',\n",
       " 'blockbust',\n",
       " 'blond',\n",
       " 'blood',\n",
       " 'bloodi',\n",
       " 'bloom',\n",
       " 'blow',\n",
       " 'blown',\n",
       " 'blue',\n",
       " 'blur',\n",
       " 'board',\n",
       " 'boat',\n",
       " 'bob',\n",
       " 'bobbi',\n",
       " 'bodi',\n",
       " 'bodies',\n",
       " 'body',\n",
       " 'bodyguard',\n",
       " 'boil',\n",
       " 'bold',\n",
       " 'boldli',\n",
       " 'boleyn',\n",
       " 'bomb',\n",
       " 'bond',\n",
       " 'bone',\n",
       " 'bones',\n",
       " 'bonu',\n",
       " 'book',\n",
       " 'bookclub',\n",
       " 'booker',\n",
       " 'books',\n",
       " 'booksaboutbook',\n",
       " 'bookstor',\n",
       " 'border',\n",
       " 'bore',\n",
       " 'born',\n",
       " 'borrow',\n",
       " 'bosch',\n",
       " 'boss',\n",
       " 'boston',\n",
       " 'bottl',\n",
       " 'bought',\n",
       " 'bound',\n",
       " 'boundari',\n",
       " 'bounti',\n",
       " 'bowl',\n",
       " 'box',\n",
       " 'boy',\n",
       " 'boyfriend',\n",
       " 'boys',\n",
       " 'bradley',\n",
       " 'brain',\n",
       " 'brand',\n",
       " 'brandon',\n",
       " 'brandonsanderson',\n",
       " 'brave',\n",
       " 'break',\n",
       " 'breakfast',\n",
       " 'breakthrough',\n",
       " 'breath',\n",
       " 'breathless',\n",
       " 'breathtak',\n",
       " 'bree',\n",
       " 'breed',\n",
       " 'brennan',\n",
       " 'brew',\n",
       " 'brian',\n",
       " 'brianna',\n",
       " 'bride',\n",
       " 'bridg',\n",
       " 'bridgerton',\n",
       " 'bridget',\n",
       " 'brief',\n",
       " 'bright',\n",
       " 'brilliant',\n",
       " 'brilliantli',\n",
       " 'brim',\n",
       " 'bring',\n",
       " 'brink',\n",
       " 'britain',\n",
       " 'british',\n",
       " 'britishliteratur',\n",
       " 'broad',\n",
       " 'broadway',\n",
       " 'broke',\n",
       " 'broken',\n",
       " 'brontë',\n",
       " 'brood',\n",
       " 'brook',\n",
       " 'brooklyn',\n",
       " 'brother',\n",
       " 'brotherhood',\n",
       " 'brothers',\n",
       " 'brought',\n",
       " 'brown',\n",
       " 'brutal',\n",
       " 'bryson',\n",
       " 'bu',\n",
       " 'buck',\n",
       " 'bud',\n",
       " 'build',\n",
       " 'building',\n",
       " 'built',\n",
       " 'bullet',\n",
       " 'bulli',\n",
       " 'bump',\n",
       " 'bunch',\n",
       " 'burden',\n",
       " 'buri',\n",
       " 'buried',\n",
       " 'burn',\n",
       " 'burst',\n",
       " 'bush',\n",
       " 'busi',\n",
       " 'business',\n",
       " 'butt',\n",
       " 'button',\n",
       " 'buy',\n",
       " 'cabin',\n",
       " 'cage',\n",
       " 'cahil',\n",
       " 'cake',\n",
       " 'cal',\n",
       " 'caldecott',\n",
       " 'caleb',\n",
       " 'california',\n",
       " 'calli',\n",
       " 'calm',\n",
       " 'calvin',\n",
       " 'cam',\n",
       " 'came',\n",
       " 'camera',\n",
       " 'cameron',\n",
       " 'cammi',\n",
       " 'camp',\n",
       " 'campaign',\n",
       " 'campbell',\n",
       " 'canada',\n",
       " 'cancer',\n",
       " 'candid',\n",
       " 'candor',\n",
       " 'cap',\n",
       " 'capabl',\n",
       " 'capac',\n",
       " 'capit',\n",
       " 'capitol',\n",
       " 'captain',\n",
       " 'captiv',\n",
       " 'captive',\n",
       " 'captor',\n",
       " 'captur',\n",
       " 'car',\n",
       " 'card',\n",
       " 'care',\n",
       " 'career',\n",
       " 'carefre',\n",
       " 'carl',\n",
       " 'carlo',\n",
       " 'carol',\n",
       " 'carolin',\n",
       " 'carolina',\n",
       " 'carri',\n",
       " 'carroll',\n",
       " 'carson',\n",
       " 'carter',\n",
       " 'cartoon',\n",
       " 'carv',\n",
       " 'case',\n",
       " 'cases',\n",
       " 'cash',\n",
       " 'cassandra',\n",
       " 'cassandraclar',\n",
       " 'cassi',\n",
       " 'cast',\n",
       " 'castl',\n",
       " 'castle',\n",
       " 'casual',\n",
       " 'cat',\n",
       " 'cataclysm',\n",
       " 'catapult',\n",
       " 'catastroph',\n",
       " 'catastrophe',\n",
       " 'catch',\n",
       " 'catherin',\n",
       " 'caught',\n",
       " 'caus',\n",
       " 'cave',\n",
       " 'celaena',\n",
       " 'celebr',\n",
       " 'cell',\n",
       " 'center',\n",
       " 'centr',\n",
       " 'central',\n",
       " 'centuri',\n",
       " 'centuries',\n",
       " 'century',\n",
       " 'ceo',\n",
       " 'certain',\n",
       " 'certainli',\n",
       " 'chain',\n",
       " 'challeng',\n",
       " 'challenge',\n",
       " 'challenges',\n",
       " 'chamber',\n",
       " 'champion',\n",
       " 'chanc',\n",
       " 'chance',\n",
       " 'chang',\n",
       " 'change',\n",
       " 'changed',\n",
       " 'changes',\n",
       " 'channel',\n",
       " 'chao',\n",
       " 'chaos',\n",
       " 'chaotic',\n",
       " 'chapter',\n",
       " 'charact',\n",
       " 'character',\n",
       " 'characterist',\n",
       " 'characters',\n",
       " 'charg',\n",
       " 'charismat',\n",
       " 'charl',\n",
       " 'charlaineharri',\n",
       " 'charlesdicken',\n",
       " 'charley',\n",
       " 'charli',\n",
       " 'charlie',\n",
       " 'charlott',\n",
       " 'charlotte',\n",
       " 'charm',\n",
       " 'charming',\n",
       " 'chart',\n",
       " 'chase',\n",
       " 'cheat',\n",
       " 'check',\n",
       " 'cheer',\n",
       " 'chef',\n",
       " 'chelsea',\n",
       " 'chemistri',\n",
       " 'cherish',\n",
       " 'chess',\n",
       " 'chest',\n",
       " 'chicago',\n",
       " 'chick',\n",
       " 'chicklit',\n",
       " 'chief',\n",
       " 'child',\n",
       " 'childhood',\n",
       " 'children',\n",
       " 'chill',\n",
       " 'china',\n",
       " 'chines',\n",
       " 'chip',\n",
       " 'chloe',\n",
       " 'chocol',\n",
       " 'choic',\n",
       " 'choice',\n",
       " 'choices',\n",
       " 'choos',\n",
       " 'chose',\n",
       " 'chosen',\n",
       " 'chri',\n",
       " 'christ',\n",
       " 'christian',\n",
       " 'christianfict',\n",
       " 'christianliv',\n",
       " 'christma',\n",
       " 'christmas',\n",
       " 'christoph',\n",
       " 'chronicl',\n",
       " 'chronicle',\n",
       " 'chronicles',\n",
       " 'chronolog',\n",
       " 'chuck',\n",
       " 'church',\n",
       " 'cia',\n",
       " 'cinder',\n",
       " 'circl',\n",
       " 'circle',\n",
       " 'circu',\n",
       " 'circumst',\n",
       " 'circumstances',\n",
       " 'citi',\n",
       " 'cities',\n",
       " 'citizen',\n",
       " 'city',\n",
       " 'civil',\n",
       " 'civilization',\n",
       " 'claim',\n",
       " 'clair',\n",
       " 'claire',\n",
       " 'clan',\n",
       " 'clandestin',\n",
       " 'clara',\n",
       " 'clare',\n",
       " 'clari',\n",
       " 'clariti',\n",
       " 'clark',\n",
       " 'clash',\n",
       " 'class',\n",
       " 'classic',\n",
       " 'classics',\n",
       " 'classmat',\n",
       " 'classmates',\n",
       " 'classroom',\n",
       " 'clay',\n",
       " 'clean',\n",
       " 'clear',\n",
       " 'clearli',\n",
       " 'clerk',\n",
       " 'clever',\n",
       " 'client',\n",
       " 'cliff',\n",
       " 'climax',\n",
       " 'climb',\n",
       " 'cling',\n",
       " 'clinton',\n",
       " 'cloak',\n",
       " 'clock',\n",
       " 'close',\n",
       " 'closer',\n",
       " 'closest',\n",
       " 'closet',\n",
       " 'cloth',\n",
       " 'clothes',\n",
       " 'cloud',\n",
       " 'club',\n",
       " 'clue',\n",
       " 'clues',\n",
       " 'clutch',\n",
       " 'coach',\n",
       " 'coast',\n",
       " 'cocktail',\n",
       " 'code',\n",
       " 'coelho',\n",
       " 'coffe',\n",
       " 'cold',\n",
       " 'cole',\n",
       " 'colin',\n",
       " 'collaps',\n",
       " 'colleagu',\n",
       " 'colleagues',\n",
       " 'collect',\n",
       " 'collection',\n",
       " 'collector',\n",
       " 'colleenhoov',\n",
       " 'colleg',\n",
       " 'college',\n",
       " 'collid',\n",
       " 'collis',\n",
       " 'colonel',\n",
       " 'coloni',\n",
       " 'color',\n",
       " 'colorado',\n",
       " 'colour',\n",
       " 'com',\n",
       " 'coma',\n",
       " 'combat',\n",
       " 'combin',\n",
       " 'come',\n",
       " 'comedi',\n",
       " 'comedy',\n",
       " 'comfort',\n",
       " 'comic',\n",
       " 'comicbook',\n",
       " 'coming',\n",
       " 'comingofag',\n",
       " 'command',\n",
       " 'commentari',\n",
       " 'commiss',\n",
       " 'commit',\n",
       " 'common',\n",
       " 'commonwealth',\n",
       " 'commun',\n",
       " 'community',\n",
       " 'compani',\n",
       " 'companion',\n",
       " 'companions',\n",
       " 'company',\n",
       " 'compar',\n",
       " 'comparison',\n",
       " 'compass',\n",
       " 'compassion',\n",
       " 'compel',\n",
       " 'compelling',\n",
       " 'compet',\n",
       " 'competit',\n",
       " 'complet',\n",
       " 'complete',\n",
       " 'completely',\n",
       " 'complex',\n",
       " 'complic',\n",
       " 'complicated',\n",
       " 'compos',\n",
       " 'compound',\n",
       " 'comprehend',\n",
       " 'comprehens',\n",
       " 'compuls',\n",
       " 'comput',\n",
       " 'computer',\n",
       " 'conceal',\n",
       " 'conceiv',\n",
       " 'concentr',\n",
       " 'concept',\n",
       " 'concern',\n",
       " 'conclud',\n",
       " 'conclus',\n",
       " 'conclusion',\n",
       " 'condemn',\n",
       " 'condit',\n",
       " 'condition',\n",
       " 'conduct',\n",
       " 'confess',\n",
       " 'confid',\n",
       " 'confin',\n",
       " 'confirm',\n",
       " 'conflict',\n",
       " 'confound',\n",
       " 'confront',\n",
       " 'confus',\n",
       " 'conjur',\n",
       " 'connect',\n",
       " 'connecticut',\n",
       " 'connection',\n",
       " 'connor',\n",
       " 'conquer',\n",
       " 'conquest',\n",
       " 'conrad',\n",
       " 'conscious',\n",
       " 'consequ',\n",
       " 'consequences',\n",
       " 'consid',\n",
       " 'consider',\n",
       " 'consist',\n",
       " 'conspiraci',\n",
       " 'constant',\n",
       " 'constantli',\n",
       " 'construct',\n",
       " 'consult',\n",
       " 'consum',\n",
       " 'contact',\n",
       " 'contain',\n",
       " 'contemporari',\n",
       " 'contemporaryrom',\n",
       " 'contend',\n",
       " 'content',\n",
       " 'contest',\n",
       " 'context',\n",
       " 'contin',\n",
       " 'continent',\n",
       " 'continents',\n",
       " 'continu',\n",
       " 'contract',\n",
       " 'contribut',\n",
       " 'control',\n",
       " 'controversi',\n",
       " 'convent',\n",
       " 'converg',\n",
       " 'convers',\n",
       " 'convey',\n",
       " 'convict',\n",
       " 'convinc',\n",
       " 'cook',\n",
       " 'cookbook',\n",
       " 'cool',\n",
       " 'cooper',\n",
       " 'cop',\n",
       " 'cope',\n",
       " 'copi',\n",
       " 'core',\n",
       " 'corey',\n",
       " 'corner',\n",
       " 'corpor',\n",
       " 'corps',\n",
       " 'correct',\n",
       " 'correspond',\n",
       " 'corridor',\n",
       " 'corrupt',\n",
       " 'corruption',\n",
       " 'cosmic',\n",
       " 'cosmo',\n",
       " 'cost',\n",
       " 'costs',\n",
       " 'cottag',\n",
       " 'couldn',\n",
       " 'council',\n",
       " 'count',\n",
       " 'counti',\n",
       " ...]"
      ]
     },
     "execution_count": 293,
     "metadata": {},
     "output_type": "execute_result"
    }
   ],
   "source": [
    "cv.get_feature_names()"
   ]
  },
  {
   "cell_type": "code",
   "execution_count": 294,
   "id": "87172a82",
   "metadata": {},
   "outputs": [],
   "source": [
    "from sklearn.metrics.pairwise import cosine_similarity"
   ]
  },
  {
   "cell_type": "code",
   "execution_count": 295,
   "id": "5527d261",
   "metadata": {},
   "outputs": [],
   "source": [
    "similarity = cosine_similarity(vectors)"
   ]
  },
  {
   "cell_type": "code",
   "execution_count": 296,
   "id": "edb858b2",
   "metadata": {},
   "outputs": [
    {
     "data": {
      "text/plain": [
       "array([[1.        , 0.08491363, 0.11737661, ..., 0.33115487, 0.09788216,\n",
       "        0.04938407],\n",
       "       [0.08491363, 1.        , 0.06677806, ..., 0.11082416, 0.04773193,\n",
       "        0.11800174],\n",
       "       [0.11737661, 0.06677806, 1.        , ..., 0.10212858, 0.10080296,\n",
       "        0.        ],\n",
       "       ...,\n",
       "       [0.33115487, 0.11082416, 0.10212858, ..., 1.        , 0.12774989,\n",
       "        0.07734374],\n",
       "       [0.09788216, 0.04773193, 0.10080296, ..., 0.12774989, 1.        ,\n",
       "        0.02775993],\n",
       "       [0.04938407, 0.11800174, 0.        , ..., 0.07734374, 0.02775993,\n",
       "        1.        ]])"
      ]
     },
     "execution_count": 296,
     "metadata": {},
     "output_type": "execute_result"
    }
   ],
   "source": [
    "similarity"
   ]
  },
  {
   "cell_type": "code",
   "execution_count": 297,
   "id": "65113c77",
   "metadata": {
    "scrolled": true
   },
   "outputs": [
    {
     "data": {
      "text/plain": [
       "array([1.        , 0.08491363, 0.11737661, ..., 0.33115487, 0.09788216,\n",
       "       0.04938407])"
      ]
     },
     "execution_count": 297,
     "metadata": {},
     "output_type": "execute_result"
    }
   ],
   "source": [
    "similarity[0]"
   ]
  },
  {
   "cell_type": "code",
   "execution_count": 298,
   "id": "3661d78d",
   "metadata": {},
   "outputs": [],
   "source": [
    "new_df= new_df.reset_index(drop = True)"
   ]
  },
  {
   "cell_type": "code",
   "execution_count": 299,
   "id": "a53852db",
   "metadata": {},
   "outputs": [
    {
     "data": {
      "text/html": [
       "<div>\n",
       "<style scoped>\n",
       "    .dataframe tbody tr th:only-of-type {\n",
       "        vertical-align: middle;\n",
       "    }\n",
       "\n",
       "    .dataframe tbody tr th {\n",
       "        vertical-align: top;\n",
       "    }\n",
       "\n",
       "    .dataframe thead th {\n",
       "        text-align: right;\n",
       "    }\n",
       "</style>\n",
       "<table border=\"1\" class=\"dataframe\">\n",
       "  <thead>\n",
       "    <tr style=\"text-align: right;\">\n",
       "      <th></th>\n",
       "      <th>book_title</th>\n",
       "      <th>image_url</th>\n",
       "      <th>tags</th>\n",
       "    </tr>\n",
       "  </thead>\n",
       "  <tbody>\n",
       "    <tr>\n",
       "      <th>0</th>\n",
       "      <td>Harry Potter and the Sorcerer's Stone</td>\n",
       "      <td>https://images.gr-assets.com/books/1474154022l...</td>\n",
       "      <td>harri potter' life is miserable. hi parent are...</td>\n",
       "    </tr>\n",
       "    <tr>\n",
       "      <th>1</th>\n",
       "      <td>The Hunger Games</td>\n",
       "      <td>https://images.gr-assets.com/books/1311332303l...</td>\n",
       "      <td>sometim in the futur after the destruct of nor...</td>\n",
       "    </tr>\n",
       "    <tr>\n",
       "      <th>2</th>\n",
       "      <td>To Kill a Mockingbird</td>\n",
       "      <td>https://images.gr-assets.com/books/1459551043l...</td>\n",
       "      <td>'shoot all the bluejay you want, if you can hi...</td>\n",
       "    </tr>\n",
       "    <tr>\n",
       "      <th>3</th>\n",
       "      <td>The Great Gatsby</td>\n",
       "      <td>https://images.gr-assets.com/books/1394397999l...</td>\n",
       "      <td>here is a novel, glamorous, ironical, compassi...</td>\n",
       "    </tr>\n",
       "    <tr>\n",
       "      <th>4</th>\n",
       "      <td>The Fault in Our Stars</td>\n",
       "      <td>https://images.gr-assets.com/books/1394995335l...</td>\n",
       "      <td>john green' brilliant #1 bestsel novel \"the fa...</td>\n",
       "    </tr>\n",
       "  </tbody>\n",
       "</table>\n",
       "</div>"
      ],
      "text/plain": [
       "                              book_title  \\\n",
       "0  Harry Potter and the Sorcerer's Stone   \n",
       "1                       The Hunger Games   \n",
       "2                  To Kill a Mockingbird   \n",
       "3                       The Great Gatsby   \n",
       "4                 The Fault in Our Stars   \n",
       "\n",
       "                                           image_url  \\\n",
       "0  https://images.gr-assets.com/books/1474154022l...   \n",
       "1  https://images.gr-assets.com/books/1311332303l...   \n",
       "2  https://images.gr-assets.com/books/1459551043l...   \n",
       "3  https://images.gr-assets.com/books/1394397999l...   \n",
       "4  https://images.gr-assets.com/books/1394995335l...   \n",
       "\n",
       "                                                tags  \n",
       "0  harri potter' life is miserable. hi parent are...  \n",
       "1  sometim in the futur after the destruct of nor...  \n",
       "2  'shoot all the bluejay you want, if you can hi...  \n",
       "3  here is a novel, glamorous, ironical, compassi...  \n",
       "4  john green' brilliant #1 bestsel novel \"the fa...  "
      ]
     },
     "execution_count": 299,
     "metadata": {},
     "output_type": "execute_result"
    }
   ],
   "source": [
    "new_df.head()"
   ]
  },
  {
   "cell_type": "code",
   "execution_count": 320,
   "id": "464665c7",
   "metadata": {},
   "outputs": [],
   "source": [
    "def recommend(book):\n",
    "    book_index = new_df[new_df['book_title'] == book].index[0]\n",
    "    dist = similarity[book_index]\n",
    "    books_list = sorted(list(enumerate(dist)),reverse=True,key=lambda x:x[1])[1:6]\n",
    "    \n",
    "    for i in books_list:\n",
    "        print(new_df.iloc[i[0]].book_title)\n",
    "    for i in books_list:\n",
    "        print(new_df.iloc[i[0]].image_url)\n",
    "#     return"
   ]
  },
  {
   "cell_type": "code",
   "execution_count": 310,
   "id": "8c919c29",
   "metadata": {},
   "outputs": [],
   "source": [
    "name = new_df['book_title']"
   ]
  },
  {
   "cell_type": "code",
   "execution_count": 302,
   "id": "364101f9",
   "metadata": {},
   "outputs": [
    {
     "data": {
      "text/plain": [
       "0               Harry Potter and the Sorcerer's Stone\n",
       "1                                    The Hunger Games\n",
       "2                               To Kill a Mockingbird\n",
       "3                                    The Great Gatsby\n",
       "4                              The Fault in Our Stars\n",
       "                            ...                      \n",
       "5614                                      Frostbitten\n",
       "5615    Y: The Last Man, Vol. 10: Whys and Wherefores\n",
       "5616                                Mao's Last Dancer\n",
       "5617                                  The Grand Sophy\n",
       "5618                            Fermat's Last Theorem\n",
       "Name: book_title, Length: 5619, dtype: object"
      ]
     },
     "execution_count": 302,
     "metadata": {},
     "output_type": "execute_result"
    }
   ],
   "source": [
    "name"
   ]
  },
  {
   "cell_type": "code",
   "execution_count": 321,
   "id": "49cdec10",
   "metadata": {},
   "outputs": [
    {
     "name": "stdout",
     "output_type": "stream",
     "text": [
      "Daring Greatly: How the Courage to Be Vulnerable Transforms the Way We Live, Love, Parent, and Lead\n",
      "THE POWER OF YOUR SUBCONSCIOUS MIND (Tamil)\n",
      "The Gifts of Imperfection: Let Go of Who You Think You're Supposed to Be and Embrace Who You Are\n",
      "The Power of Your Subconscious Mind\n",
      "The Love Dare\n",
      "https://images.gr-assets.com/books/1412906966l/22812284.jpg\n",
      "https://images.gr-assets.com/books/1483285323l/33656332.jpg\n",
      "https://images.gr-assets.com/books/1369092544l/7015403.jpg\n",
      "https://images.gr-assets.com/books/1386924010l/68984.jpg\n",
      "https://images.gr-assets.com/books/1328815507l/4499669.jpg\n"
     ]
    }
   ],
   "source": [
    "try:\n",
    "    recommend('Rising Strong')\n",
    "except:\n",
    "    print('Dont have the book in database')"
   ]
  },
  {
   "cell_type": "code",
   "execution_count": 304,
   "id": "68de66aa",
   "metadata": {},
   "outputs": [],
   "source": [
    "import pickle"
   ]
  },
  {
   "cell_type": "code",
   "execution_count": 305,
   "id": "f65d43aa",
   "metadata": {},
   "outputs": [],
   "source": [
    "pickle.dump(new_df,open('books.pkl','wb'))"
   ]
  },
  {
   "cell_type": "code",
   "execution_count": 307,
   "id": "c6b53350",
   "metadata": {},
   "outputs": [
    {
     "data": {
      "text/plain": [
       "array([\"Harry Potter and the Sorcerer's Stone\", 'The Hunger Games',\n",
       "       'To Kill a Mockingbird', ..., \"Mao's Last Dancer\",\n",
       "       'The Grand Sophy', \"Fermat's Last Theorem\"], dtype=object)"
      ]
     },
     "execution_count": 307,
     "metadata": {},
     "output_type": "execute_result"
    }
   ],
   "source": [
    "new_df['book_title'].values"
   ]
  },
  {
   "cell_type": "code",
   "execution_count": 308,
   "id": "4b09ae93",
   "metadata": {},
   "outputs": [],
   "source": [
    "pickle.dump(similarity,open('similarity.pkl','wb'))"
   ]
  },
  {
   "cell_type": "code",
   "execution_count": 322,
   "id": "ac7e127f",
   "metadata": {},
   "outputs": [
    {
     "data": {
      "text/plain": [
       "(5619, 3)"
      ]
     },
     "execution_count": 322,
     "metadata": {},
     "output_type": "execute_result"
    }
   ],
   "source": [
    "new_df.shape"
   ]
  }
 ],
 "metadata": {
  "kernelspec": {
   "display_name": "Python 3 (ipykernel)",
   "language": "python",
   "name": "python3"
  },
  "language_info": {
   "codemirror_mode": {
    "name": "ipython",
    "version": 3
   },
   "file_extension": ".py",
   "mimetype": "text/x-python",
   "name": "python",
   "nbconvert_exporter": "python",
   "pygments_lexer": "ipython3",
   "version": "3.10.5"
  }
 },
 "nbformat": 4,
 "nbformat_minor": 5
}
